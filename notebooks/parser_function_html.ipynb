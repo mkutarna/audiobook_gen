{
 "cells": [
  {
   "cell_type": "code",
   "execution_count": 1,
   "id": "8a8fd2d1",
   "metadata": {},
   "outputs": [
    {
     "ename": "ModuleNotFoundError",
     "evalue": "No module named 'nltk'",
     "output_type": "error",
     "traceback": [
      "\u001b[0;31m---------------------------------------------------------------------------\u001b[0m",
      "\u001b[0;31mModuleNotFoundError\u001b[0m                       Traceback (most recent call last)",
      "Cell \u001b[0;32mIn [1], line 1\u001b[0m\n\u001b[0;32m----> 1\u001b[0m \u001b[38;5;28;01mimport\u001b[39;00m \u001b[38;5;21;01mnltk\u001b[39;00m\n",
      "\u001b[0;31mModuleNotFoundError\u001b[0m: No module named 'nltk'"
     ]
    }
   ],
   "source": [
    "import nltk"
   ]
  },
  {
   "cell_type": "code",
   "execution_count": null,
   "id": "bb7acbfc",
   "metadata": {},
   "outputs": [],
   "source": [
    "import re\n",
    "import numpy as np\n",
    "\n",
    "from bs4 import BeautifulSoup\n",
    "from nltk import tokenize, download\n",
    "from textwrap import TextWrapper"
   ]
  },
  {
   "cell_type": "code",
   "execution_count": null,
   "id": "6cb15925",
   "metadata": {},
   "outputs": [],
   "source": [
    "# file_path = '1232-h.htm'\n",
    "file_path = 'test.htm'"
   ]
  },
  {
   "cell_type": "code",
   "execution_count": null,
   "id": "762ed2fe",
   "metadata": {},
   "outputs": [],
   "source": [
    "download('punkt', quiet=True)\n",
    "wrapper = TextWrapper(140, fix_sentence_endings=True)"
   ]
  },
  {
   "cell_type": "code",
   "execution_count": null,
   "id": "653c7d63",
   "metadata": {},
   "outputs": [],
   "source": [
    "def preprocess(file):\n",
    "    input_text = BeautifulSoup(file, \"html.parser\").text\n",
    "    text_list = []\n",
    "    for paragraph in input_text.split('\\n'):\n",
    "        paragraph = paragraph.replace('—', '-')\n",
    "        paragraph = paragraph.replace(' .', '')\n",
    "        paragraph = re.sub(r'[^\\x00-\\x7f]', \"\", paragraph)\n",
    "        paragraph = re.sub(r'x0f', \" \", paragraph)\n",
    "        sentences = tokenize.sent_tokenize(paragraph)\n",
    "\n",
    "        sentence_list = []\n",
    "        for sentence in sentences:\n",
    "            if not re.search('[a-zA-Z]', sentence):\n",
    "                sentence = ''\n",
    "            wrapped_sentences = wrapper.wrap(sentence)\n",
    "            sentence_list.append(wrapped_sentences)\n",
    "        trunc_sentences = [phrase for sublist in sentence_list for phrase in sublist]\n",
    "        text_list.append(trunc_sentences)\n",
    "    text_list = [text for sentences in text_list for text in sentences]\n",
    "    return text_list"
   ]
  },
  {
   "cell_type": "code",
   "execution_count": null,
   "id": "273f863b",
   "metadata": {},
   "outputs": [],
   "source": [
    "def read_html(file):\n",
    "    corpus = preprocess(file)\n",
    "    return corpus"
   ]
  },
  {
   "cell_type": "code",
   "execution_count": null,
   "id": "18cb509c",
   "metadata": {},
   "outputs": [],
   "source": [
    "with open(file_path, 'r') as f:\n",
    "    ebook_upload = f.read()\n",
    "corpus = read_html(ebook_upload)"
   ]
  },
  {
   "cell_type": "code",
   "execution_count": null,
   "id": "49157be5",
   "metadata": {},
   "outputs": [],
   "source": [
    "np.shape(corpus)"
   ]
  },
  {
   "cell_type": "code",
   "execution_count": null,
   "id": "fee67cc1",
   "metadata": {},
   "outputs": [],
   "source": [
    "corpus[0][2]"
   ]
  },
  {
   "cell_type": "code",
   "execution_count": null,
   "id": "3d8c836f",
   "metadata": {},
   "outputs": [],
   "source": [
    "corpus"
   ]
  },
  {
   "cell_type": "code",
   "execution_count": null,
   "id": "fd555acb",
   "metadata": {},
   "outputs": [],
   "source": [
    "assert title == \"1232-h\"\n",
    "assert np.shape(corpus) == (1, 5476)\n",
    "assert corpus[0][0] == 'The Project Gutenberg eBook of The Prince, by Nicolo Machiavelli'\n",
    "assert corpus[0][2] == 'This eBook is for the use of anyone anywhere in the United States and'"
   ]
  }
 ],
 "metadata": {
  "kernelspec": {
   "display_name": "Python 3 (ipykernel)",
   "language": "python",
   "name": "python3"
  },
  "language_info": {
   "codemirror_mode": {
    "name": "ipython",
    "version": 3
   },
   "file_extension": ".py",
   "mimetype": "text/x-python",
   "name": "python",
   "nbconvert_exporter": "python",
   "pygments_lexer": "ipython3",
   "version": "3.8.10"
  }
 },
 "nbformat": 4,
 "nbformat_minor": 5
}
