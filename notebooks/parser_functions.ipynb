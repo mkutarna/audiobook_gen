{
 "cells": [
  {
   "cell_type": "code",
   "execution_count": 1,
   "id": "603fd279",
   "metadata": {},
   "outputs": [],
   "source": [
    "import re\n",
    "import numpy as np\n",
    "from pathlib import Path\n",
    "from bs4 import BeautifulSoup\n",
    "from nltk import tokenize, download\n",
    "from textwrap import TextWrapper"
   ]
  },
  {
   "cell_type": "code",
   "execution_count": 2,
   "id": "345c22ff",
   "metadata": {},
   "outputs": [],
   "source": [
    "txt_path = 'test.txt'"
   ]
  },
  {
   "cell_type": "code",
   "execution_count": 3,
   "id": "9bd1afbf",
   "metadata": {},
   "outputs": [],
   "source": [
    "def read_txt(txt_path):      \n",
    "    download('punkt', quiet=True)\n",
    "#     wrapper = TextWrapper(cf.MAX_CHAR_LEN, fix_sentence_endings=True)\n",
    "    wrapper = TextWrapper(140, fix_sentence_endings=True)\n",
    "\n",
    "    with open('test.txt') as f:\n",
    "        book = f.read()\n",
    "    \n",
    "    input_text = BeautifulSoup(book, \"html.parser\").text\n",
    "    text_list = []\n",
    "    for paragraph in input_text.split('\\n'):\n",
    "        paragraph = paragraph.replace('—', '-')\n",
    "        paragraph = re.sub(r'[^\\x00-\\x7f]', \"\", paragraph)\n",
    "        sentences = tokenize.sent_tokenize(paragraph)\n",
    "        \n",
    "        # Wrap sentences to maximum character limit\n",
    "        sentence_list = []\n",
    "        for sentence in sentences:\n",
    "            wrapped_sentences = wrapper.wrap(sentence)\n",
    "            sentence_list.append(wrapped_sentences)\n",
    "            \n",
    "        # Flatten list of list of sentences and append\n",
    "        trunc_sentences = [phrase for sublist in sentence_list for phrase in sublist]\n",
    "        text_list.append(trunc_sentences)\n",
    "    text_list = [[text for sentences in text_list for text in sentences]]\n",
    "    \n",
    "    # Parse out title from imported file path\n",
    "    txt_title = Path(txt_path).stem.lower().replace(' ', '_')\n",
    "\n",
    "    return text_list, txt_title"
   ]
  },
  {
   "cell_type": "code",
   "execution_count": 4,
   "id": "3c8c835c",
   "metadata": {},
   "outputs": [],
   "source": [
    "corpus, title = read_txt(txt_path)"
   ]
  },
  {
   "cell_type": "code",
   "execution_count": 5,
   "id": "7b0c694c",
   "metadata": {},
   "outputs": [
    {
     "data": {
      "text/plain": [
       "(1, 119)"
      ]
     },
     "execution_count": 5,
     "metadata": {},
     "output_type": "execute_result"
    }
   ],
   "source": [
    "np.shape(corpus)"
   ]
  },
  {
   "cell_type": "code",
   "execution_count": 6,
   "id": "79ebb333",
   "metadata": {},
   "outputs": [
    {
     "data": {
      "text/plain": [
       "'Generated Random Lorem Ipsum Text File'"
      ]
     },
     "execution_count": 6,
     "metadata": {},
     "output_type": "execute_result"
    }
   ],
   "source": [
    "corpus[0][0]"
   ]
  },
  {
   "cell_type": "code",
   "execution_count": 7,
   "id": "2329b01e",
   "metadata": {},
   "outputs": [
    {
     "data": {
      "text/plain": [
       "'test'"
      ]
     },
     "execution_count": 7,
     "metadata": {},
     "output_type": "execute_result"
    }
   ],
   "source": [
    "title"
   ]
  },
  {
   "cell_type": "code",
   "execution_count": 8,
   "id": "b2e6f06e",
   "metadata": {},
   "outputs": [
    {
     "data": {
      "text/plain": [
       "[['Generated Random Lorem Ipsum Text File',\n",
       "  'Link to generator repo!',\n",
       "  'Lorem ipsum dolor sit amet, consectetur adipiscing elit, sed do eiusmod tempor incididunt ut labore et dolore magna aliqua.',\n",
       "  'Proin fermentum leo vel orci porta non pulvinar.',\n",
       "  'Pretium lectus quam id leo in vitae turpis massa sed.',\n",
       "  'Donec ac odio tempor orci dapibus.',\n",
       "  'Feugiat in ante metus dictum at tempor.',\n",
       "  'Elementum tempus egestas sed sed risus.',\n",
       "  'Adipiscing commodo elit at imperdiet dui accumsan sit.',\n",
       "  'Placerat orci nulla pellentesque dignissim enim.',\n",
       "  'Posuere lorem ipsum dolor sit.',\n",
       "  'Id ornare arcu odio ut sem.',\n",
       "  'Purus faucibus ornare suspendisse sed nisi lacus sed.',\n",
       "  'Ac turpis egestas sed tempus urna et pharetra pharetra massa.',\n",
       "  'Morbi quis commodo odio aenean.',\n",
       "  'Malesuada proin libero nunc consequat interdum.',\n",
       "  'Ut placerat orci nulla pellentesque dignissim enim sit.',\n",
       "  'Elit at imperdiet dui accumsan sit amet.',\n",
       "  'Nunc sed id semper risus in hendrerit gravida rutrum quisque.',\n",
       "  'Augue interdum velit euismod in pellentesque.',\n",
       "  'Elementum curabitur vitae nunc sed velit dignissim sodales ut eu.',\n",
       "  'Mi in nulla posuere sollicitudin aliquam ultrices sagittis orci a.  Quisque sagittis purus sit amet volutpat consequat mauris.',\n",
       "  'Risus in hendrerit gravida rutrum.',\n",
       "  'Quis vel eros donec ac odio.',\n",
       "  'Eget nunc lobortis mattis aliquam faucibus.',\n",
       "  'Lobortis scelerisque fermentum dui faucibus.',\n",
       "  'Est velit egestas dui id ornare arcu odio.',\n",
       "  'Sed ullamcorper morbi tincidunt ornare massa eget egestas purus.',\n",
       "  'Nisi porta lorem mollis aliquam ut porttitor leo a.  Ut morbi tincidunt augue interdum velit.',\n",
       "  'Egestas diam in arcu cursus euismod.',\n",
       "  'Tortor id aliquet lectus proin nibh nisl condimentum id venenatis.',\n",
       "  'Lectus sit amet est placerat in egestas erat imperdiet sed.',\n",
       "  'Amet tellus cras adipiscing enim eu turpis egestas pretium.',\n",
       "  'Et leo duis ut diam quam.',\n",
       "  'Egestas diam in arcu cursus euismod quis.',\n",
       "  'Leo in vitae turpis massa sed elementum tempus egestas.',\n",
       "  'Amet nulla facilisi morbi tempus iaculis urna id volutpat.',\n",
       "  'Parturient montes nascetur ridiculus mus.',\n",
       "  'Erat pellentesque adipiscing commodo elit at imperdiet.',\n",
       "  'Egestas congue quisque egestas diam in arcu cursus.',\n",
       "  'Diam ut venenatis tellus in metus.',\n",
       "  'Ullamcorper eget nulla facilisi etiam.',\n",
       "  'Blandit turpis cursus in hac habitasse platea dictumst quisque.',\n",
       "  'Cursus euismod quis viverra nibh cras pulvinar.',\n",
       "  'Neque viverra justo nec ultrices.',\n",
       "  'Dui ut ornare lectus sit.',\n",
       "  'Mauris ultrices eros in cursus turpis massa tincidunt.',\n",
       "  'Lobortis elementum nibh tellus molestie nunc non blandit massa enim.',\n",
       "  'Ullamcorper morbi tincidunt ornare massa eget egestas purus viverra.',\n",
       "  'Mauris in aliquam sem fringilla ut morbi.',\n",
       "  'Nunc sed blandit libero volutpat.',\n",
       "  'Amet venenatis urna cursus eget nunc scelerisque.',\n",
       "  'Sagittis nisl rhoncus mattis rhoncus urna neque.',\n",
       "  'Felis eget nunc lobortis mattis aliquam faucibus purus in massa.',\n",
       "  'Fringilla ut morbi tincidunt augue interdum.',\n",
       "  'Nibh mauris cursus mattis molestie a iaculis at erat.',\n",
       "  'Lacus sed turpis tincidunt id aliquet risus feugiat in.',\n",
       "  'Nulla facilisi etiam dignissim diam quis enim lobortis.',\n",
       "  'Vitae congue eu consequat ac felis donec et.',\n",
       "  'Scelerisque viverra mauris in aliquam sem fringilla ut morbi tincidunt.',\n",
       "  'Blandit volutpat maecenas volutpat blandit aliquam.',\n",
       "  'Ultrices tincidunt arcu non sodales neque sodales ut etiam.',\n",
       "  'Sollicitudin aliquam ultrices sagittis orci a scelerisque.',\n",
       "  'Id cursus metus aliquam eleifend mi.',\n",
       "  'Magna eget est lorem ipsum dolor sit amet consectetur.',\n",
       "  'Eleifend mi in nulla posuere sollicitudin aliquam ultrices.',\n",
       "  'Neque sodales ut etiam sit amet.',\n",
       "  'Enim neque volutpat ac tincidunt vitae semper quis lectus nulla.',\n",
       "  'Diam vel quam elementum pulvinar etiam non quam.',\n",
       "  'At tellus at urna condimentum mattis.',\n",
       "  'Nisi scelerisque eu ultrices vitae auctor eu augue ut.',\n",
       "  'Integer malesuada nunc vel risus commodo viverra maecenas accumsan.',\n",
       "  'Ornare suspendisse sed nisi lacus.',\n",
       "  'Sapien faucibus et molestie ac feugiat sed lectus.',\n",
       "  'Quam elementum pulvinar etiam non.',\n",
       "  'Elementum integer enim neque volutpat ac tincidunt.',\n",
       "  'Justo laoreet sit amet cursus sit.',\n",
       "  'Amet venenatis urna cursus eget nunc scelerisque viverra mauris.',\n",
       "  'Cras semper auctor neque vitae tempus quam pellentesque nec nam.',\n",
       "  'Fermentum iaculis eu non diam phasellus vestibulum lorem sed.',\n",
       "  'Non pulvinar neque laoreet suspendisse interdum consectetur libero.',\n",
       "  'Nec tincidunt praesent semper feugiat nibh sed.',\n",
       "  'Sed id semper risus in hendrerit gravida rutrum.',\n",
       "  'Suspendisse in est ante in nibh.',\n",
       "  'Dui ut ornare lectus sit amet est placerat in.',\n",
       "  'Venenatis a condimentum vitae sapien pellentesque.',\n",
       "  'Elementum nibh tellus molestie nunc non.',\n",
       "  'Amet mauris commodo quis imperdiet massa tincidunt.',\n",
       "  'Sed cras ornare arcu dui vivamus.',\n",
       "  'Aliquet enim tortor at auctor urna nunc id.',\n",
       "  'Curabitur gravida arcu ac tortor dignissim convallis aenean et.',\n",
       "  'Dictum at tempor commodo ullamcorper a lacus.',\n",
       "  'Ullamcorper velit sed ullamcorper morbi tincidunt.',\n",
       "  'Dui id ornare arcu odio ut sem.',\n",
       "  'Arcu ac tortor dignissim convallis aenean et tortor at risus.',\n",
       "  'Porta nibh venenatis cras sed felis eget velit aliquet sagittis.',\n",
       "  'Massa tincidunt nunc pulvinar sapien et.',\n",
       "  'Adipiscing bibendum est ultricies integer quis auctor elit sed.',\n",
       "  'Proin fermentum leo vel orci porta non pulvinar neque.',\n",
       "  'Blandit volutpat maecenas volutpat blandit aliquam etiam.',\n",
       "  'Aliquet nec ullamcorper sit amet risus nullam eget felis.',\n",
       "  'Tincidunt praesent semper feugiat nibh.',\n",
       "  'Ultrices neque ornare aenean euismod elementum nisi quis eleifend.',\n",
       "  'Facilisi nullam vehicula ipsum a.  Velit aliquet sagittis id consectetur purus.',\n",
       "  'Ut placerat orci nulla pellentesque dignissim enim sit amet.',\n",
       "  'Ut eu sem integer vitae justo eget magna fermentum iaculis.',\n",
       "  'Et ligula ullamcorper malesuada proin libero nunc consequat interdum.',\n",
       "  'Sit amet tellus cras adipiscing.',\n",
       "  'Scelerisque eleifend donec pretium vulputate sapien.',\n",
       "  'Sed elementum tempus egestas sed.',\n",
       "  'Pellentesque eu tincidunt tortor aliquam nulla facilisi.',\n",
       "  'Ut pharetra sit amet aliquam.',\n",
       "  'Nisl tincidunt eget nullam non.',\n",
       "  'Aenean euismod elementum nisi quis eleifend.',\n",
       "  'Ac tortor vitae purus faucibus ornare suspendisse.',\n",
       "  'Sit amet volutpat consequat mauris nunc congue nisi.',\n",
       "  'Tellus at urna condimentum mattis.',\n",
       "  'Risus nullam eget felis eget nunc lobortis.',\n",
       "  'Aliquam vestibulum morbi blandit cursus risus at.']]"
      ]
     },
     "execution_count": 8,
     "metadata": {},
     "output_type": "execute_result"
    }
   ],
   "source": [
    "corpus"
   ]
  },
  {
   "cell_type": "code",
   "execution_count": 9,
   "id": "74623878",
   "metadata": {},
   "outputs": [],
   "source": [
    "assert title == \"test\"\n",
    "assert np.shape(corpus) == (1, 119)\n",
    "assert corpus[0][0] == 'Generated Random Lorem Ipsum Text File'\n",
    "assert corpus[0][1] == 'Link to generator repo!'"
   ]
  },
  {
   "cell_type": "code",
   "execution_count": null,
   "id": "0d2bb168",
   "metadata": {},
   "outputs": [],
   "source": []
  }
 ],
 "metadata": {
  "kernelspec": {
   "display_name": "Python 3 (ipykernel)",
   "language": "python",
   "name": "python3"
  },
  "language_info": {
   "codemirror_mode": {
    "name": "ipython",
    "version": 3
   },
   "file_extension": ".py",
   "mimetype": "text/x-python",
   "name": "python",
   "nbconvert_exporter": "python",
   "pygments_lexer": "ipython3",
   "version": "3.9.12"
  }
 },
 "nbformat": 4,
 "nbformat_minor": 5
}
