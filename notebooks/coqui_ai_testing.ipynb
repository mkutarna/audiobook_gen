{
 "cells": [
  {
   "cell_type": "markdown",
   "id": "8c68cb9a",
   "metadata": {},
   "source": [
    "# Coqui-AI Proof of Concept Testing\n",
    "\n",
    "This notebook is intended to show proof of concept for using Coqui-AI to convert ebooks into audiobooks. In order to accomplish this, the notebook will use tools from the epud-parser notebook, as well as the Coqui-AI / TTS engine tools to convert the parsed text into audio files.\n",
    "\n",
    "**Note:** this notebook is intended for use with the `ttsenv` conda environment.\n",
    "\n",
    "## Outline of steps\n",
    "\n",
    "1. Convert .epub file to text string\n",
    "2. Run text through TTS engine\n",
    "3. Combine audio files"
   ]
  },
  {
   "cell_type": "code",
   "execution_count": null,
   "id": "6142613d",
   "metadata": {},
   "outputs": [],
   "source": [
    "import ebooklib\n",
    "from ebooklib import epub\n",
    "from bs4 import BeautifulSoup"
   ]
  },
  {
   "cell_type": "code",
   "execution_count": null,
   "id": "113b9152",
   "metadata": {},
   "outputs": [],
   "source": [
    "! pip install -U pip\n",
    "! pip install TTS"
   ]
  },
  {
   "cell_type": "markdown",
   "id": "8b44c6f6",
   "metadata": {},
   "source": [
    "## Step 1 - Epub to text\n",
    "\n",
    "Text here."
   ]
  },
  {
   "cell_type": "code",
   "execution_count": null,
   "id": "8ce8fe67",
   "metadata": {},
   "outputs": [],
   "source": [
    "book = epub.read_epub('pg2554.epub')\n",
    "# book = epub.read_epub('epub-test.epub')"
   ]
  },
  {
   "cell_type": "markdown",
   "id": "5e7a9913",
   "metadata": {},
   "source": [
    "Text here."
   ]
  },
  {
   "cell_type": "code",
   "execution_count": null,
   "id": "9de43c72",
   "metadata": {},
   "outputs": [],
   "source": [
    "#for item in book.get_items():\n",
    "#    if item.get_type() == ebooklib.ITEM_DOCUMENT:\n",
    "#        print('==================================')\n",
    "#        print('NAME : ', item.get_name())\n",
    "#        print('----------------------------------')\n",
    "#        print(BeautifulSoup(item.get_content(), \"html.parser\").text)\n",
    "#        print('==================================')"
   ]
  },
  {
   "cell_type": "markdown",
   "id": "40ba3ad9",
   "metadata": {},
   "source": [
    "## Step 2 - TTS Engine\n",
    "\n",
    "Text here."
   ]
  },
  {
   "cell_type": "code",
   "execution_count": null,
   "id": "46ad3342",
   "metadata": {},
   "outputs": [],
   "source": [
    "i = 0\n",
    "for item in book.get_items():\n",
    "    if item.get_type() == ebooklib.ITEM_DOCUMENT:\n",
    "        i += 1\n",
    "        if i == 2:\n",
    "            # set up text sample and path\n",
    "            input_text = BeautifulSoup(item.get_content(), \"html.parser\").text\n",
    "            sample_path = \"output\"+str(i)+\".wav\"\n",
    "\n",
    "            print(input_text)\n",
    "            \n",
    "            # run text sample through TTS engine\n",
    "            !tts --text \"$input_text\" --model_name \"tts_models/en/ek1/tacotron2\" --out_path $sample_path\n",
    "        "
   ]
  },
  {
   "cell_type": "markdown",
   "id": "87094b9a",
   "metadata": {},
   "source": [
    "## Step 3 - Combine files\n",
    "\n",
    "Text here."
   ]
  },
  {
   "cell_type": "code",
   "execution_count": null,
   "id": "0d97c40c",
   "metadata": {},
   "outputs": [],
   "source": [
    "# Code here"
   ]
  }
 ],
 "metadata": {
  "kernelspec": {
   "display_name": "Python 3 (ipykernel)",
   "language": "python",
   "name": "python3"
  },
  "language_info": {
   "codemirror_mode": {
    "name": "ipython",
    "version": 3
   },
   "file_extension": ".py",
   "mimetype": "text/x-python",
   "name": "python",
   "nbconvert_exporter": "python",
   "pygments_lexer": "ipython3",
   "version": "3.9.12"
  }
 },
 "nbformat": 4,
 "nbformat_minor": 5
}
