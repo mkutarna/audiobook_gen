{
 "cells": [
  {
   "cell_type": "markdown",
   "metadata": {},
   "source": [
    "# Coqui-AI Proof of Concept Testing\n",
    "\n",
    "This notebook is intended to show proof of concept for using Coqui-AI to convert ebooks into audiobooks. In order to accomplish this, the notebook will use tools from the epud-parser notebook, as well as the Coqui-AI / TTS engine tools to convert the parsed text into audio files.\n",
    "\n",
    "**Note:** this notebook is intended for use with the `ttsenv` conda environment.\n",
    "\n",
    "## Outline of steps\n",
    "\n",
    "1. Convert .epub file to text string\n",
    "2. Run text through TTS engine\n",
    "3. Combine audio files"
   ]
  },
  {
   "cell_type": "code",
   "execution_count": 2,
   "metadata": {},
   "outputs": [],
   "source": [
    "import ebooklib\n",
    "from ebooklib import epub\n",
    "from bs4 import BeautifulSoup"
   ]
  },
  {
   "cell_type": "code",
   "execution_count": null,
   "metadata": {},
   "outputs": [],
   "source": [
    "! pip install -U pip\n",
    "! pip install TTS"
   ]
  },
  {
   "cell_type": "markdown",
   "metadata": {},
   "source": [
    "## Step 1 - Epub to text\n",
    "\n",
    "Text here."
   ]
  },
  {
   "cell_type": "code",
   "execution_count": 3,
   "metadata": {},
   "outputs": [],
   "source": [
    "book = epub.read_epub('pg2554.epub')\n",
    "# book = epub.read_epub('epub-test.epub')"
   ]
  },
  {
   "cell_type": "markdown",
   "metadata": {},
   "source": [
    "Text here."
   ]
  },
  {
   "cell_type": "code",
   "execution_count": null,
   "metadata": {},
   "outputs": [],
   "source": [
    "#for item in book.get_items():\n",
    "#    if item.get_type() == ebooklib.ITEM_DOCUMENT:\n",
    "#        print('==================================')\n",
    "#        print('NAME : ', item.get_name())\n",
    "#        print('----------------------------------')\n",
    "#        print(BeautifulSoup(item.get_content(), \"html.parser\").text)\n",
    "#        print('==================================')"
   ]
  },
  {
   "cell_type": "markdown",
   "metadata": {},
   "source": [
    "## Step 2 - TTS Engine\n",
    "\n",
    "Text here."
   ]
  },
  {
   "cell_type": "code",
   "execution_count": 4,
   "metadata": {},
   "outputs": [
    {
     "name": "stdout",
     "output_type": "stream",
     "text": [
      "outputs/output1.wav\n",
      "/home/paperspace/anaconda3/envs/fastai2/lib/python3.7/site-packages/torch/cuda/__init__.py:83: UserWarning: CUDA initialization: The NVIDIA driver on your system is too old (found version 10000). Please update your GPU driver by downloading and installing a new version from the URL: http://www.nvidia.com/Download/index.aspx Alternatively, go to: https://pytorch.org to install a PyTorch version that has been compiled with your version of the CUDA driver. (Triggered internally at  ../c10/cuda/CUDAFunctions.cpp:109.)\n",
      "  return torch._C._cuda_getDeviceCount() > 0\n",
      "Traceback (most recent call last):\n",
      "  File \"/home/paperspace/anaconda3/envs/fastai2/bin/tts\", line 5, in <module>\n",
      "    from TTS.bin.synthesize import main\n",
      "  File \"/home/paperspace/anaconda3/envs/fastai2/lib/python3.7/site-packages/TTS/bin/synthesize.py\", line 12, in <module>\n",
      "    from TTS.utils.synthesizer import Synthesizer\n",
      "  File \"/home/paperspace/anaconda3/envs/fastai2/lib/python3.7/site-packages/TTS/utils/synthesizer.py\", line 14, in <module>\n",
      "    from TTS.utils.audio import AudioProcessor\n",
      "  File \"/home/paperspace/anaconda3/envs/fastai2/lib/python3.7/site-packages/TTS/utils/audio.py\", line 3, in <module>\n",
      "    import librosa\n",
      "  File \"/home/paperspace/anaconda3/envs/fastai2/lib/python3.7/site-packages/librosa/__init__.py\", line 211, in <module>\n",
      "    from . import core\n",
      "  File \"/home/paperspace/anaconda3/envs/fastai2/lib/python3.7/site-packages/librosa/core/__init__.py\", line 5, in <module>\n",
      "    from .convert import *  # pylint: disable=wildcard-import\n",
      "  File \"/home/paperspace/anaconda3/envs/fastai2/lib/python3.7/site-packages/librosa/core/convert.py\", line 7, in <module>\n",
      "    from . import notation\n",
      "  File \"/home/paperspace/anaconda3/envs/fastai2/lib/python3.7/site-packages/librosa/core/notation.py\", line 8, in <module>\n",
      "    from ..util.exceptions import ParameterError\n",
      "  File \"/home/paperspace/anaconda3/envs/fastai2/lib/python3.7/site-packages/librosa/util/__init__.py\", line 83, in <module>\n",
      "    from .utils import *  # pylint: disable=wildcard-import\n",
      "  File \"/home/paperspace/anaconda3/envs/fastai2/lib/python3.7/site-packages/librosa/util/utils.py\", line 6, in <module>\n",
      "    import scipy.ndimage\n",
      "  File \"/home/paperspace/anaconda3/envs/fastai2/lib/python3.7/site-packages/scipy/__init__.py\", line 156, in <module>\n",
      "    from . import fft\n",
      "  File \"/home/paperspace/anaconda3/envs/fastai2/lib/python3.7/site-packages/scipy/fft/__init__.py\", line 81, in <module>\n",
      "    from ._helper import next_fast_len\n",
      "  File \"/home/paperspace/anaconda3/envs/fastai2/lib/python3.7/site-packages/scipy/fft/_helper.py\", line 4, in <module>\n",
      "    from . import _pocketfft\n",
      "  File \"/home/paperspace/anaconda3/envs/fastai2/lib/python3.7/site-packages/scipy/fft/_pocketfft/__init__.py\", line 3, in <module>\n",
      "    from .basic import *\n",
      "  File \"/home/paperspace/anaconda3/envs/fastai2/lib/python3.7/site-packages/scipy/fft/_pocketfft/basic.py\", line 8, in <module>\n",
      "    from . import pypocketfft as pfft\n",
      "ImportError: /usr/lib/x86_64-linux-gnu/libstdc++.so.6: version `GLIBCXX_3.4.22' not found (required by /home/paperspace/anaconda3/envs/fastai2/lib/python3.7/site-packages/scipy/fft/_pocketfft/pypocketfft.cpython-37m-x86_64-linux-gnu.so)\n",
      "outputs/output2.wav\n",
      "/home/paperspace/anaconda3/envs/fastai2/lib/python3.7/site-packages/torch/cuda/__init__.py:83: UserWarning: CUDA initialization: The NVIDIA driver on your system is too old (found version 10000). Please update your GPU driver by downloading and installing a new version from the URL: http://www.nvidia.com/Download/index.aspx Alternatively, go to: https://pytorch.org to install a PyTorch version that has been compiled with your version of the CUDA driver. (Triggered internally at  ../c10/cuda/CUDAFunctions.cpp:109.)\n",
      "  return torch._C._cuda_getDeviceCount() > 0\n",
      "Traceback (most recent call last):\n",
      "  File \"/home/paperspace/anaconda3/envs/fastai2/bin/tts\", line 5, in <module>\n",
      "    from TTS.bin.synthesize import main\n",
      "  File \"/home/paperspace/anaconda3/envs/fastai2/lib/python3.7/site-packages/TTS/bin/synthesize.py\", line 12, in <module>\n",
      "    from TTS.utils.synthesizer import Synthesizer\n",
      "  File \"/home/paperspace/anaconda3/envs/fastai2/lib/python3.7/site-packages/TTS/utils/synthesizer.py\", line 14, in <module>\n",
      "    from TTS.utils.audio import AudioProcessor\n",
      "  File \"/home/paperspace/anaconda3/envs/fastai2/lib/python3.7/site-packages/TTS/utils/audio.py\", line 3, in <module>\n",
      "    import librosa\n",
      "  File \"/home/paperspace/anaconda3/envs/fastai2/lib/python3.7/site-packages/librosa/__init__.py\", line 211, in <module>\n",
      "    from . import core\n",
      "  File \"/home/paperspace/anaconda3/envs/fastai2/lib/python3.7/site-packages/librosa/core/__init__.py\", line 5, in <module>\n",
      "    from .convert import *  # pylint: disable=wildcard-import\n",
      "  File \"/home/paperspace/anaconda3/envs/fastai2/lib/python3.7/site-packages/librosa/core/convert.py\", line 7, in <module>\n",
      "    from . import notation\n",
      "  File \"/home/paperspace/anaconda3/envs/fastai2/lib/python3.7/site-packages/librosa/core/notation.py\", line 8, in <module>\n",
      "    from ..util.exceptions import ParameterError\n",
      "  File \"/home/paperspace/anaconda3/envs/fastai2/lib/python3.7/site-packages/librosa/util/__init__.py\", line 83, in <module>\n",
      "    from .utils import *  # pylint: disable=wildcard-import\n",
      "  File \"/home/paperspace/anaconda3/envs/fastai2/lib/python3.7/site-packages/librosa/util/utils.py\", line 6, in <module>\n",
      "    import scipy.ndimage\n",
      "  File \"/home/paperspace/anaconda3/envs/fastai2/lib/python3.7/site-packages/scipy/__init__.py\", line 156, in <module>\n",
      "    from . import fft\n",
      "  File \"/home/paperspace/anaconda3/envs/fastai2/lib/python3.7/site-packages/scipy/fft/__init__.py\", line 81, in <module>\n",
      "    from ._helper import next_fast_len\n",
      "  File \"/home/paperspace/anaconda3/envs/fastai2/lib/python3.7/site-packages/scipy/fft/_helper.py\", line 4, in <module>\n",
      "    from . import _pocketfft\n",
      "  File \"/home/paperspace/anaconda3/envs/fastai2/lib/python3.7/site-packages/scipy/fft/_pocketfft/__init__.py\", line 3, in <module>\n",
      "    from .basic import *\n",
      "  File \"/home/paperspace/anaconda3/envs/fastai2/lib/python3.7/site-packages/scipy/fft/_pocketfft/basic.py\", line 8, in <module>\n",
      "    from . import pypocketfft as pfft\n",
      "ImportError: /usr/lib/x86_64-linux-gnu/libstdc++.so.6: version `GLIBCXX_3.4.22' not found (required by /home/paperspace/anaconda3/envs/fastai2/lib/python3.7/site-packages/scipy/fft/_pocketfft/pypocketfft.cpython-37m-x86_64-linux-gnu.so)\n",
      "outputs/output3.wav\n",
      "/home/paperspace/anaconda3/envs/fastai2/lib/python3.7/site-packages/torch/cuda/__init__.py:83: UserWarning: CUDA initialization: The NVIDIA driver on your system is too old (found version 10000). Please update your GPU driver by downloading and installing a new version from the URL: http://www.nvidia.com/Download/index.aspx Alternatively, go to: https://pytorch.org to install a PyTorch version that has been compiled with your version of the CUDA driver. (Triggered internally at  ../c10/cuda/CUDAFunctions.cpp:109.)\n",
      "  return torch._C._cuda_getDeviceCount() > 0\n",
      "Traceback (most recent call last):\n",
      "  File \"/home/paperspace/anaconda3/envs/fastai2/bin/tts\", line 5, in <module>\n",
      "    from TTS.bin.synthesize import main\n",
      "  File \"/home/paperspace/anaconda3/envs/fastai2/lib/python3.7/site-packages/TTS/bin/synthesize.py\", line 12, in <module>\n",
      "    from TTS.utils.synthesizer import Synthesizer\n",
      "  File \"/home/paperspace/anaconda3/envs/fastai2/lib/python3.7/site-packages/TTS/utils/synthesizer.py\", line 14, in <module>\n",
      "    from TTS.utils.audio import AudioProcessor\n",
      "  File \"/home/paperspace/anaconda3/envs/fastai2/lib/python3.7/site-packages/TTS/utils/audio.py\", line 3, in <module>\n",
      "    import librosa\n",
      "  File \"/home/paperspace/anaconda3/envs/fastai2/lib/python3.7/site-packages/librosa/__init__.py\", line 211, in <module>\n",
      "    from . import core\n",
      "  File \"/home/paperspace/anaconda3/envs/fastai2/lib/python3.7/site-packages/librosa/core/__init__.py\", line 5, in <module>\n",
      "    from .convert import *  # pylint: disable=wildcard-import\n",
      "  File \"/home/paperspace/anaconda3/envs/fastai2/lib/python3.7/site-packages/librosa/core/convert.py\", line 7, in <module>\n",
      "    from . import notation\n",
      "  File \"/home/paperspace/anaconda3/envs/fastai2/lib/python3.7/site-packages/librosa/core/notation.py\", line 8, in <module>\n",
      "    from ..util.exceptions import ParameterError\n",
      "  File \"/home/paperspace/anaconda3/envs/fastai2/lib/python3.7/site-packages/librosa/util/__init__.py\", line 83, in <module>\n",
      "    from .utils import *  # pylint: disable=wildcard-import\n",
      "  File \"/home/paperspace/anaconda3/envs/fastai2/lib/python3.7/site-packages/librosa/util/utils.py\", line 6, in <module>\n",
      "    import scipy.ndimage\n",
      "  File \"/home/paperspace/anaconda3/envs/fastai2/lib/python3.7/site-packages/scipy/__init__.py\", line 156, in <module>\n",
      "    from . import fft\n",
      "  File \"/home/paperspace/anaconda3/envs/fastai2/lib/python3.7/site-packages/scipy/fft/__init__.py\", line 81, in <module>\n",
      "    from ._helper import next_fast_len\n",
      "  File \"/home/paperspace/anaconda3/envs/fastai2/lib/python3.7/site-packages/scipy/fft/_helper.py\", line 4, in <module>\n",
      "    from . import _pocketfft\n",
      "  File \"/home/paperspace/anaconda3/envs/fastai2/lib/python3.7/site-packages/scipy/fft/_pocketfft/__init__.py\", line 3, in <module>\n",
      "    from .basic import *\n",
      "  File \"/home/paperspace/anaconda3/envs/fastai2/lib/python3.7/site-packages/scipy/fft/_pocketfft/basic.py\", line 8, in <module>\n",
      "    from . import pypocketfft as pfft\n",
      "ImportError: /usr/lib/x86_64-linux-gnu/libstdc++.so.6: version `GLIBCXX_3.4.22' not found (required by /home/paperspace/anaconda3/envs/fastai2/lib/python3.7/site-packages/scipy/fft/_pocketfft/pypocketfft.cpython-37m-x86_64-linux-gnu.so)\n"
     ]
    },
    {
     "name": "stdout",
     "output_type": "stream",
     "text": [
      "outputs/output4.wav\n",
      "/home/paperspace/anaconda3/envs/fastai2/lib/python3.7/site-packages/torch/cuda/__init__.py:83: UserWarning: CUDA initialization: The NVIDIA driver on your system is too old (found version 10000). Please update your GPU driver by downloading and installing a new version from the URL: http://www.nvidia.com/Download/index.aspx Alternatively, go to: https://pytorch.org to install a PyTorch version that has been compiled with your version of the CUDA driver. (Triggered internally at  ../c10/cuda/CUDAFunctions.cpp:109.)\n",
      "  return torch._C._cuda_getDeviceCount() > 0\n",
      "Traceback (most recent call last):\n",
      "  File \"/home/paperspace/anaconda3/envs/fastai2/bin/tts\", line 5, in <module>\n",
      "    from TTS.bin.synthesize import main\n",
      "  File \"/home/paperspace/anaconda3/envs/fastai2/lib/python3.7/site-packages/TTS/bin/synthesize.py\", line 12, in <module>\n",
      "    from TTS.utils.synthesizer import Synthesizer\n",
      "  File \"/home/paperspace/anaconda3/envs/fastai2/lib/python3.7/site-packages/TTS/utils/synthesizer.py\", line 14, in <module>\n",
      "    from TTS.utils.audio import AudioProcessor\n",
      "  File \"/home/paperspace/anaconda3/envs/fastai2/lib/python3.7/site-packages/TTS/utils/audio.py\", line 3, in <module>\n",
      "    import librosa\n",
      "  File \"/home/paperspace/anaconda3/envs/fastai2/lib/python3.7/site-packages/librosa/__init__.py\", line 211, in <module>\n",
      "    from . import core\n",
      "  File \"/home/paperspace/anaconda3/envs/fastai2/lib/python3.7/site-packages/librosa/core/__init__.py\", line 5, in <module>\n",
      "    from .convert import *  # pylint: disable=wildcard-import\n",
      "  File \"/home/paperspace/anaconda3/envs/fastai2/lib/python3.7/site-packages/librosa/core/convert.py\", line 7, in <module>\n",
      "    from . import notation\n",
      "  File \"/home/paperspace/anaconda3/envs/fastai2/lib/python3.7/site-packages/librosa/core/notation.py\", line 8, in <module>\n",
      "    from ..util.exceptions import ParameterError\n",
      "  File \"/home/paperspace/anaconda3/envs/fastai2/lib/python3.7/site-packages/librosa/util/__init__.py\", line 83, in <module>\n",
      "    from .utils import *  # pylint: disable=wildcard-import\n",
      "  File \"/home/paperspace/anaconda3/envs/fastai2/lib/python3.7/site-packages/librosa/util/utils.py\", line 6, in <module>\n",
      "    import scipy.ndimage\n",
      "  File \"/home/paperspace/anaconda3/envs/fastai2/lib/python3.7/site-packages/scipy/__init__.py\", line 156, in <module>\n",
      "    from . import fft\n",
      "  File \"/home/paperspace/anaconda3/envs/fastai2/lib/python3.7/site-packages/scipy/fft/__init__.py\", line 81, in <module>\n",
      "    from ._helper import next_fast_len\n",
      "  File \"/home/paperspace/anaconda3/envs/fastai2/lib/python3.7/site-packages/scipy/fft/_helper.py\", line 4, in <module>\n",
      "    from . import _pocketfft\n",
      "  File \"/home/paperspace/anaconda3/envs/fastai2/lib/python3.7/site-packages/scipy/fft/_pocketfft/__init__.py\", line 3, in <module>\n",
      "    from .basic import *\n",
      "  File \"/home/paperspace/anaconda3/envs/fastai2/lib/python3.7/site-packages/scipy/fft/_pocketfft/basic.py\", line 8, in <module>\n",
      "    from . import pypocketfft as pfft\n",
      "ImportError: /usr/lib/x86_64-linux-gnu/libstdc++.so.6: version `GLIBCXX_3.4.22' not found (required by /home/paperspace/anaconda3/envs/fastai2/lib/python3.7/site-packages/scipy/fft/_pocketfft/pypocketfft.cpython-37m-x86_64-linux-gnu.so)\n"
     ]
    }
   ],
   "source": [
    "i = 0\n",
    "for item in book.get_items():\n",
    "    if item.get_type() == ebooklib.ITEM_DOCUMENT:\n",
    "        if i <= 3:\n",
    "            # set up counter and text sample\n",
    "            i += 1\n",
    "            sample = BeautifulSoup(item.get_content(), \"html.parser\").text\n",
    "            sample_path = \"outputs/output\"+str(i)+\".wav\"\n",
    "\n",
    "            print(sample_path)\n",
    "            # run text sample through TTS engine\n",
    "            !tts --text sample --model_name \"tts_models/en/ek1/tacotron2\" --out_path sample_path\n",
    "        "
   ]
  },
  {
   "cell_type": "markdown",
   "metadata": {},
   "source": [
    "## Step 3 - Combine files\n",
    "\n",
    "Text here."
   ]
  },
  {
   "cell_type": "code",
   "execution_count": null,
   "metadata": {},
   "outputs": [],
   "source": [
    "# Code here"
   ]
  }
 ],
 "metadata": {
  "kernelspec": {
   "display_name": "Python 3",
   "language": "python",
   "name": "python3"
  },
  "language_info": {
   "codemirror_mode": {
    "name": "ipython",
    "version": 3
   },
   "file_extension": ".py",
   "mimetype": "text/x-python",
   "name": "python",
   "nbconvert_exporter": "python",
   "pygments_lexer": "ipython3",
   "version": "3.7.6"
  }
 },
 "nbformat": 4,
 "nbformat_minor": 5
}
