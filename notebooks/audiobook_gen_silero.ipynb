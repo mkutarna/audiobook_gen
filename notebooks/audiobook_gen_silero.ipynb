{
 "cells": [
  {
   "cell_type": "markdown",
   "metadata": {},
   "source": [
    "---\n",
    "\n",
    "# Audiobook Generator - Proof of Concept Notebook\n",
    "\n",
    "This notebook is intended to be a proof of concept for the end-to-end work of generating an audiobook file from an ebook. This includes converting the .epub book files into raw python text strings, splitting into items and sentences, then tokenizing and batching them to run through the Silero text-to-speech (TTS) implementation.\n",
    "\n",
    "*Updated: September 2, 2022*\n",
    "\n",
    "---\n",
    "\n",
    "### Overview\n",
    "\n",
    "1. Setup\n",
    "    - Needed libraries and packages\n",
    "    - Variables\n",
    "    - Silero model selection\n",
    "2. Ebook Import\n",
    "    - Target file selection\n",
    "    - File (.epub) import\n",
    "    - String parsing\n",
    "    - String length wrapping\n",
    "3. Text-to-Speech\n",
    "    - Silero implementation\n",
    "    - Results\n",
    "\n",
    "---"
   ]
  },
  {
   "cell_type": "markdown",
   "metadata": {},
   "source": [
    "### Step 1 - Setup\n",
    "\n",
    "This proof-of-concept relies on PyTorch and TorchAudio for its implementation. OmegaConf is used to support providing the latest model from Silero in a consistent manner. A seed is created, and used for all random function that are needed.\n",
    "\n",
    "We will also use the TQDM package to provide progress bars while running the proof-of-concept within this notebook."
   ]
  },
  {
   "cell_type": "code",
   "execution_count": 1,
   "metadata": {},
   "outputs": [],
   "source": [
    "import os\n",
    "import torch\n",
    "import torchaudio\n",
    "from omegaconf import OmegaConf\n",
    "from tqdm.notebook import tqdm\n",
    "\n",
    "torch.hub.download_url_to_file('https://raw.githubusercontent.com/snakers4/silero-models/master/models.yml',\n",
    "                               'latest_silero_models.yml',\n",
    "                               progress=False)\n",
    "models = OmegaConf.load('latest_silero_models.yml')\n",
    "\n",
    "seed = 1337\n",
    "torch.manual_seed(seed)\n",
    "torch.cuda.manual_seed(seed)\n",
    "\n",
    "device = 'cuda' if torch.cuda.is_available() else 'cpu'"
   ]
  },
  {
   "cell_type": "markdown",
   "metadata": {},
   "source": [
    "We also need to set some variables for later use during the text processing steps, and the audio output in the TTS step.\n",
    "\n",
    "- `max_char_len` is set based on the results of performance testing done by the Silero devs. Larger values enable sentence structure to be better preserved, but negatively affect performance.\n",
    "- `sample_rate` is also set based on recommendations from the Silero team for performance vs. quality. Using 16k or 8k audio will improve performance, but result in lower quality audio. Silero estimates a decrease of ~0.5 MOS (from 3.7 to 3.2)."
   ]
  },
  {
   "cell_type": "code",
   "execution_count": 2,
   "metadata": {},
   "outputs": [],
   "source": [
    "max_char_len = 150\n",
    "sample_rate = 24000"
   ]
  },
  {
   "cell_type": "markdown",
   "metadata": {},
   "source": [
    "The Silero implementation comes with models trained on various languages, the most common being Russian, but we will use the latest English model for this proof of concept. There are also a number of English speaker choices available."
   ]
  },
  {
   "cell_type": "code",
   "execution_count": 3,
   "metadata": {},
   "outputs": [
    {
     "name": "stderr",
     "output_type": "stream",
     "text": [
      "Using cache found in /home/mkutarna/.cache/torch/hub/snakers4_silero-models_master\n"
     ]
    }
   ],
   "source": [
    "language = 'en'\n",
    "model_id = 'v3_en'\n",
    "speaker = 'en_0'\n",
    "\n",
    "model, example_text = torch.hub.load(repo_or_dir='snakers4/silero-models',\n",
    "                                     model='silero_tts',\n",
    "                                     language=language,\n",
    "                                     speaker=model_id)\n",
    "model.to(device)  # gpu or cpu"
   ]
  },
  {
   "cell_type": "markdown",
   "metadata": {},
   "source": [
    "### Step 2 - Ebook Import\n",
    "\n",
    "Below is a representative ebook (`Protrait of Dorian Gray`), taken from Project Gutenberg - a free directory of public-domain works."
   ]
  },
  {
   "cell_type": "code",
   "execution_count": 4,
   "metadata": {},
   "outputs": [],
   "source": [
    "ebook_path = 'pg174.epub'"
   ]
  },
  {
   "cell_type": "markdown",
   "metadata": {},
   "source": [
    "The function below - `read_ebook()` - performs the following steps:\n",
    "- Takes in the ebook, located at `ebook_path`\n",
    "- Strips out any html tags\n",
    "- Uses the nltk packages to download and use the `punkt` sentence-level tokenizer\n",
    "- Calls the TextWrapper package to wrap sentences to the `max_char_len`, with care to fix sentence endings\n",
    "- I.e. sentences are not split in the middle of a word, but rather words are preserved\n",
    "- Finally sentences are appended to a chapter, and the chapters to a complete list: `corpus`"
   ]
  },
  {
   "cell_type": "code",
   "execution_count": 5,
   "metadata": {},
   "outputs": [],
   "source": [
    "def read_ebook(ebook_path):\n",
    "\n",
    "    import ebooklib\n",
    "    from ebooklib import epub\n",
    "    from bs4 import BeautifulSoup\n",
    "    from tqdm.notebook import tqdm\n",
    "    from nltk import tokenize, download\n",
    "    from textwrap import TextWrapper\n",
    "\n",
    "    download('punkt')\n",
    "    wrapper = TextWrapper(max_char_len, fix_sentence_endings=True)\n",
    "\n",
    "    book = epub.read_epub(ebook_path)\n",
    "\n",
    "    ebook_title = book.get_metadata('DC', 'title')[0][0]\n",
    "    ebook_title = ebook_title.lower().replace(' ', '_')\n",
    "\n",
    "    corpus = []\n",
    "    for item in tqdm(list(book.get_items())):\n",
    "        if item.get_type() == ebooklib.ITEM_DOCUMENT:\n",
    "            input_text = BeautifulSoup(item.get_content(), \"html.parser\").text\n",
    "            text_list = []\n",
    "            for paragraph in input_text.split('\\n'):\n",
    "                paragraph = paragraph.replace('—', '-')\n",
    "                sentences = tokenize.sent_tokenize(paragraph)\n",
    "\n",
    "                # Truncate sentences to maximum character limit\n",
    "                sentence_list = []\n",
    "                for sentence in sentences:\n",
    "                    wrapped_sentences = wrapper.wrap(sentence)\n",
    "                    sentence_list.append(wrapped_sentences)\n",
    "                # Flatten list of list of sentences\n",
    "                trunc_sentences = [phrase for sublist in sentence_list for phrase in sublist]\n",
    "\n",
    "                text_list.append(trunc_sentences)\n",
    "            text_list = [text for sentences in text_list for text in sentences]\n",
    "            corpus.append(text_list)\n",
    "\n",
    "    return corpus, ebook_title"
   ]
  },
  {
   "cell_type": "markdown",
   "metadata": {},
   "source": [
    "Here we use the above function to read in the chosen ebook."
   ]
  },
  {
   "cell_type": "code",
   "execution_count": 6,
   "metadata": {},
   "outputs": [
    {
     "name": "stderr",
     "output_type": "stream",
     "text": [
      "[nltk_data] Downloading package punkt to /home/mkutarna/nltk_data...\n",
      "[nltk_data]   Package punkt is already up-to-date!\n"
     ]
    },
    {
     "data": {
      "application/vnd.jupyter.widget-view+json": {
       "model_id": "af9fc2e9b5db413ebbd3d8de5a1587a6",
       "version_major": 2,
       "version_minor": 0
      },
      "text/plain": [
       "  0%|          | 0/28 [00:00<?, ?it/s]"
      ]
     },
     "metadata": {},
     "output_type": "display_data"
    }
   ],
   "source": [
    "ebook, title = read_ebook(ebook_path)"
   ]
  },
  {
   "cell_type": "markdown",
   "metadata": {},
   "source": [
    "And here, let us take a peak at the contents of the ebook:"
   ]
  },
  {
   "cell_type": "code",
   "execution_count": 7,
   "metadata": {},
   "outputs": [
    {
     "name": "stdout",
     "output_type": "stream",
     "text": [
      "Title of ebook (path name):the_picture_of_dorian_gray\n",
      "First paragraph (truncated for display): \n",
      " ['CHAPTER I.', 'The studio was filled with the rich odour of roses, and when the light summer wind stirred amidst the trees of the garden, there came through the open', 'door the heavy scent of the lilac, or the more delicate perfume of the pink-flowering thorn.', 'From the corner of the divan of Persian saddle-bags on which he was lying, smoking, as was his custom, innumerable cigarettes, Lord Henry Wotton could', 'just catch the gleam of the honey-sweet and honey-coloured blossoms of a laburnum, whose tremulous branches seemed hardly able to bear the burden of a']\n"
     ]
    }
   ],
   "source": [
    "print(f'Title of ebook (path name):{title}')\n",
    "print(f'First paragraph (truncated for display): \\n {ebook[2][0:5]}')"
   ]
  },
  {
   "cell_type": "markdown",
   "metadata": {},
   "source": [
    "### Step 3 - Text-to-Speech\n",
    "\n",
    "The ebook is fed through the Silero TTS implementation sentence by sentence. We will also check that each tensor being created is valid (i.e. non-zero).\n",
    "\n",
    "Finally, the output tensors are exported as `.wav` files on a chapter by chapter basis - consistent with the file structure of common audiobooks."
   ]
  },
  {
   "cell_type": "code",
   "execution_count": 8,
   "metadata": {},
   "outputs": [
    {
     "data": {
      "application/vnd.jupyter.widget-view+json": {
       "model_id": "54bb9d7c921a49ab85d14fd851988543",
       "version_major": 2,
       "version_minor": 0
      },
      "text/plain": [
       "  0%|          | 0/3 [00:00<?, ?it/s]"
      ]
     },
     "metadata": {},
     "output_type": "display_data"
    },
    {
     "data": {
      "application/vnd.jupyter.widget-view+json": {
       "model_id": "82fec86c80074094a94ab9c30c3ad377",
       "version_major": 2,
       "version_minor": 0
      },
      "text/plain": [
       "  0%|          | 0/38 [00:00<?, ?it/s]"
      ]
     },
     "metadata": {},
     "output_type": "display_data"
    },
    {
     "data": {
      "application/vnd.jupyter.widget-view+json": {
       "model_id": "17203768bf6c415cb28cb9699c28fcd2",
       "version_major": 2,
       "version_minor": 0
      },
      "text/plain": [
       "  0%|          | 0/36 [00:00<?, ?it/s]"
      ]
     },
     "metadata": {},
     "output_type": "display_data"
    },
    {
     "ename": "KeyboardInterrupt",
     "evalue": "",
     "output_type": "error",
     "traceback": [
      "\u001b[0;31m---------------------------------------------------------------------------\u001b[0m",
      "\u001b[0;31mKeyboardInterrupt\u001b[0m                         Traceback (most recent call last)",
      "Input \u001b[0;32mIn [8]\u001b[0m, in \u001b[0;36m<cell line: 3>\u001b[0;34m()\u001b[0m\n\u001b[1;32m      5\u001b[0m audio_list \u001b[38;5;241m=\u001b[39m []\n\u001b[1;32m      6\u001b[0m \u001b[38;5;28;01mfor\u001b[39;00m sentence \u001b[38;5;129;01min\u001b[39;00m tqdm(chapter):\n\u001b[0;32m----> 7\u001b[0m     audio \u001b[38;5;241m=\u001b[39m \u001b[43mmodel\u001b[49m\u001b[38;5;241;43m.\u001b[39;49m\u001b[43mapply_tts\u001b[49m\u001b[43m(\u001b[49m\u001b[43mtext\u001b[49m\u001b[38;5;241;43m=\u001b[39;49m\u001b[43msentence\u001b[49m\u001b[43m,\u001b[49m\n\u001b[1;32m      8\u001b[0m \u001b[43m                            \u001b[49m\u001b[43mspeaker\u001b[49m\u001b[38;5;241;43m=\u001b[39;49m\u001b[43mspeaker\u001b[49m\u001b[43m,\u001b[49m\n\u001b[1;32m      9\u001b[0m \u001b[43m                            \u001b[49m\u001b[43msample_rate\u001b[49m\u001b[38;5;241;43m=\u001b[39;49m\u001b[43msample_rate\u001b[49m\u001b[43m)\u001b[49m\n\u001b[1;32m     10\u001b[0m     \u001b[38;5;28;01mif\u001b[39;00m \u001b[38;5;28mlen\u001b[39m(audio) \u001b[38;5;241m>\u001b[39m \u001b[38;5;241m0\u001b[39m \u001b[38;5;129;01mand\u001b[39;00m \u001b[38;5;28misinstance\u001b[39m(audio, torch\u001b[38;5;241m.\u001b[39mTensor):\n\u001b[1;32m     11\u001b[0m         audio_list\u001b[38;5;241m.\u001b[39mappend(audio)\n",
      "File \u001b[0;32m<torch_package_0>.multi_acc_v3_package.py:338\u001b[0m, in \u001b[0;36mTTSModelMultiAcc_v3.apply_tts\u001b[0;34m(self, text, ssml_text, speaker, sample_rate, put_accent, put_yo, voice_path, symbol_durs)\u001b[0m\n\u001b[1;32m    335\u001b[0m         model_kwargs[\u001b[38;5;124m'\u001b[39m\u001b[38;5;124mput_yo\u001b[39m\u001b[38;5;124m'\u001b[39m] \u001b[38;5;241m=\u001b[39m put_yo\n\u001b[1;32m    336\u001b[0m         model_kwargs[\u001b[38;5;124m'\u001b[39m\u001b[38;5;124mput_accent\u001b[39m\u001b[38;5;124m'\u001b[39m] \u001b[38;5;241m=\u001b[39m put_accent\n\u001b[0;32m--> 338\u001b[0m     out, out_lens \u001b[38;5;241m=\u001b[39m \u001b[38;5;28;43mself\u001b[39;49m\u001b[38;5;241;43m.\u001b[39;49m\u001b[43mmodel\u001b[49m\u001b[43m(\u001b[49m\u001b[38;5;241;43m*\u001b[39;49m\u001b[38;5;241;43m*\u001b[39;49m\u001b[43mmodel_kwargs\u001b[49m\u001b[43m)\u001b[49m\n\u001b[1;32m    339\u001b[0m \u001b[38;5;28;01mexcept\u001b[39;00m \u001b[38;5;167;01mRuntimeError\u001b[39;00m:\n\u001b[1;32m    340\u001b[0m     \u001b[38;5;28;01mraise\u001b[39;00m \u001b[38;5;167;01mException\u001b[39;00m(\u001b[38;5;124m\"\u001b[39m\u001b[38;5;124mModel couldn\u001b[39m\u001b[38;5;124m'\u001b[39m\u001b[38;5;124mt generate your text, probably it\u001b[39m\u001b[38;5;124m'\u001b[39m\u001b[38;5;124ms too long\u001b[39m\u001b[38;5;124m\"\u001b[39m)\n",
      "File \u001b[0;32m~/anaconda3/envs/ttsenv/lib/python3.9/site-packages/torch/nn/modules/module.py:1110\u001b[0m, in \u001b[0;36mModule._call_impl\u001b[0;34m(self, *input, **kwargs)\u001b[0m\n\u001b[1;32m   1106\u001b[0m \u001b[38;5;66;03m# If we don't have any hooks, we want to skip the rest of the logic in\u001b[39;00m\n\u001b[1;32m   1107\u001b[0m \u001b[38;5;66;03m# this function, and just call forward.\u001b[39;00m\n\u001b[1;32m   1108\u001b[0m \u001b[38;5;28;01mif\u001b[39;00m \u001b[38;5;129;01mnot\u001b[39;00m (\u001b[38;5;28mself\u001b[39m\u001b[38;5;241m.\u001b[39m_backward_hooks \u001b[38;5;129;01mor\u001b[39;00m \u001b[38;5;28mself\u001b[39m\u001b[38;5;241m.\u001b[39m_forward_hooks \u001b[38;5;129;01mor\u001b[39;00m \u001b[38;5;28mself\u001b[39m\u001b[38;5;241m.\u001b[39m_forward_pre_hooks \u001b[38;5;129;01mor\u001b[39;00m _global_backward_hooks\n\u001b[1;32m   1109\u001b[0m         \u001b[38;5;129;01mor\u001b[39;00m _global_forward_hooks \u001b[38;5;129;01mor\u001b[39;00m _global_forward_pre_hooks):\n\u001b[0;32m-> 1110\u001b[0m     \u001b[38;5;28;01mreturn\u001b[39;00m \u001b[43mforward_call\u001b[49m\u001b[43m(\u001b[49m\u001b[38;5;241;43m*\u001b[39;49m\u001b[38;5;28;43minput\u001b[39;49m\u001b[43m,\u001b[49m\u001b[43m \u001b[49m\u001b[38;5;241;43m*\u001b[39;49m\u001b[38;5;241;43m*\u001b[39;49m\u001b[43mkwargs\u001b[49m\u001b[43m)\u001b[49m\n\u001b[1;32m   1111\u001b[0m \u001b[38;5;66;03m# Do not call functions when jit is used\u001b[39;00m\n\u001b[1;32m   1112\u001b[0m full_backward_hooks, non_full_backward_hooks \u001b[38;5;241m=\u001b[39m [], []\n",
      "\u001b[0;31mKeyboardInterrupt\u001b[0m: "
     ]
    }
   ],
   "source": [
    "#os.mkdir(f'outputs/{title}')\n",
    "\n",
    "for chapter in tqdm(ebook[0:3]):\n",
    "    chapter_index = f'chapter{ebook.index(chapter):03}'\n",
    "    audio_list = []\n",
    "    for sentence in tqdm(chapter):\n",
    "        audio = model.apply_tts(text=sentence,\n",
    "                                speaker=speaker,\n",
    "                                sample_rate=sample_rate)\n",
    "        if len(audio) > 0 and isinstance(audio, torch.Tensor):\n",
    "            audio_list.append(audio)\n",
    "        else:\n",
    "            print(f'Tensor for sentence is not valid: \\n {sentence}')\n",
    "\n",
    "    sample_path = f'outputs/{title}/{chapter_index}.wav'\n",
    "\n",
    "    if len(audio_list) > 0:\n",
    "        audio_file = torch.cat(audio_list).reshape(1, -1)\n",
    "        torchaudio.save(sample_path, audio_file, sample_rate)\n",
    "    else:\n",
    "        print(f'Chapter {chapter_index} is empty.')"
   ]
  },
  {
   "cell_type": "markdown",
   "metadata": {},
   "source": [
    "### Results\n",
    "\n",
    "##### CPU (i7-4790k)\n",
    "\n",
    "Running \"Pride and Prejudice\" through the Silero model took **34m42s** to convert. This book is a good representation of the average book length: the average audiobook length on Audible is between 10 & 12 hours, while Pride and Prejudice is 11h20m.\n",
    "\n",
    "This is approximately a 20:1 ratio of audio length to processing time.\n",
    "\n",
    "Pride and Prejudice: **34m42s** - 1h39m33s on i7-4650u\n",
    "\n",
    "Portrait of Dorian Gray: **18m18s** - 18m50s w/output - 1h06hm04s on i7-4650u\n",
    "\n",
    "Crime and Punishment: **Unknown** - error converting ebook at 7/50, 19/368\n",
    "\n",
    "##### GPU (P4000)\n",
    "\n",
    "Running the same book through the Silero model on GPU took **5m39s** to convert.\n",
    "\n",
    "This is approximately a 122:1 ratio of audio length to processing time.\n",
    "\n",
    "Pride and Prejudice: **5m39s**\n",
    "\n",
    "Portrait of Dorian Gray: **4m26s**\n",
    "\n",
    "Crime and Punishment: **Unknown** - error converting ebook"
   ]
  },
  {
   "cell_type": "code",
   "execution_count": null,
   "metadata": {},
   "outputs": [],
   "source": []
  }
 ],
 "metadata": {
  "kernelspec": {
   "display_name": "Python 3 (ipykernel)",
   "language": "python",
   "name": "python3"
  },
  "language_info": {
   "codemirror_mode": {
    "name": "ipython",
    "version": 3
   },
   "file_extension": ".py",
   "mimetype": "text/x-python",
   "name": "python",
   "nbconvert_exporter": "python",
   "pygments_lexer": "ipython3",
   "version": "3.9.12"
  }
 },
 "nbformat": 4,
 "nbformat_minor": 4
}
