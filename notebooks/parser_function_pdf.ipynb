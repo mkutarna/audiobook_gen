{
 "cells": [
  {
   "cell_type": "code",
   "execution_count": 1,
   "id": "dfdbe718",
   "metadata": {},
   "outputs": [],
   "source": [
    "import re\n",
    "import numpy as np\n",
    "from pathlib import Path\n",
    "from bs4 import BeautifulSoup\n",
    "from nltk import tokenize, download\n",
    "from pdfminer.high_level import extract_text\n",
    "from textwrap import TextWrapper"
   ]
  },
  {
   "cell_type": "code",
   "execution_count": 2,
   "id": "0f2b315d",
   "metadata": {},
   "outputs": [],
   "source": [
    "file_path = 'thinkdsp.pdf'"
   ]
  },
  {
   "cell_type": "code",
   "execution_count": 3,
   "id": "e4408e69",
   "metadata": {},
   "outputs": [],
   "source": [
    "def read_pdf(file_path):      \n",
    "    download('punkt', quiet=True)\n",
    "#     wrapper = TextWrapper(cf.MAX_CHAR_LEN, fix_sentence_endings=True)\n",
    "    wrapper = TextWrapper(140, fix_sentence_endings=True)\n",
    "\n",
    "    book = extract_text(file_path)\n",
    "    \n",
    "    input_text = BeautifulSoup(book, \"html.parser\").text\n",
    "    text_list = []\n",
    "    for paragraph in input_text.split('\\n'):\n",
    "        paragraph = paragraph.replace('—', '-')\n",
    "        paragraph = re.sub(r'[^\\x00-\\x7f]', \"\", paragraph)\n",
    "        sentences = tokenize.sent_tokenize(paragraph)\n",
    "        \n",
    "        # Wrap sentences to maximum character limit\n",
    "        sentence_list = []\n",
    "        for sentence in sentences:\n",
    "            wrapped_sentences = wrapper.wrap(sentence)\n",
    "            sentence_list.append(wrapped_sentences)\n",
    "            \n",
    "        # Flatten list of list of sentences and append\n",
    "        trunc_sentences = [phrase for sublist in sentence_list for phrase in sublist]\n",
    "        text_list.append(trunc_sentences)\n",
    "    text_list = [[text for sentences in text_list for text in sentences]]\n",
    "    \n",
    "    # Parse out title from imported file path\n",
    "    txt_title = Path(file_path).stem.lower().replace(' ', '_')\n",
    "\n",
    "    return text_list, txt_title"
   ]
  },
  {
   "cell_type": "code",
   "execution_count": 4,
   "id": "c573662d",
   "metadata": {},
   "outputs": [],
   "source": [
    "corpus, title = read_pdf(file_path)"
   ]
  },
  {
   "cell_type": "code",
   "execution_count": 5,
   "id": "d60f21f1",
   "metadata": {},
   "outputs": [
    {
     "data": {
      "text/plain": [
       "(1, 195)"
      ]
     },
     "execution_count": 5,
     "metadata": {},
     "output_type": "execute_result"
    }
   ],
   "source": [
    "np.shape(corpus)"
   ]
  },
  {
   "cell_type": "code",
   "execution_count": 9,
   "id": "f2d0279c",
   "metadata": {},
   "outputs": [
    {
     "data": {
      "text/plain": [
       "'Digital Signal Processing in Python'"
      ]
     },
     "execution_count": 9,
     "metadata": {},
     "output_type": "execute_result"
    }
   ],
   "source": [
    "corpus[0][1]"
   ]
  },
  {
   "cell_type": "code",
   "execution_count": 10,
   "id": "aa90524f",
   "metadata": {},
   "outputs": [
    {
     "data": {
      "text/plain": [
       "'thinkdsp'"
      ]
     },
     "execution_count": 10,
     "metadata": {},
     "output_type": "execute_result"
    }
   ],
   "source": [
    "title"
   ]
  },
  {
   "cell_type": "code",
   "execution_count": 12,
   "id": "41773a93",
   "metadata": {},
   "outputs": [
    {
     "data": {
      "text/plain": [
       "[['Think DSP',\n",
       "  'Digital Signal Processing in Python',\n",
       "  'Version 1.1.4',\n",
       "  '  Think DSP',\n",
       "  'Digital Signal Processing in Python',\n",
       "  'Version 1.1.4',\n",
       "  'Allen B. Downey',\n",
       "  'Green Tea Press',\n",
       "  'Needham, Massachusetts',\n",
       "  ' Copyright c(cid:13) 2014 Allen B. Downey.',\n",
       "  'Green Tea Press',\n",
       "  '9 Washburn Ave',\n",
       "  'Needham MA 02492',\n",
       "  'Permission is granted to copy, distribute, and/or modify this document under',\n",
       "  'the terms of the Creative Commons Attribution-NonCommercial-ShareAlike',\n",
       "  '4.0 International License, which is available at http://creativecommons.',\n",
       "  'org/licenses/by-nc-sa/4.0/.',\n",
       "  'The LATEX source for this book is available from http://think-dsp.com.',\n",
       "  ' Preface',\n",
       "  'Signal processing is one of my favorite topics.',\n",
       "  'It is useful in many areas',\n",
       "  'of science and engineering, and if you understand the fundamental ideas, it',\n",
       "  'provides insight into many things we see in the world, and especially the things',\n",
       "  'we hear.',\n",
       "  'But unless you studied electrical or mechanical engineering, you probably',\n",
       "  'havent had a chance to learn about signal processing.',\n",
       "  'The problem is that',\n",
       "  'most books (and the classes that use them) present the material bottom-up,',\n",
       "  'starting with mathematical abstractions like phasors.',\n",
       "  'And they tend to be',\n",
       "  'theoretical, with few applications and little apparent relevance.',\n",
       "  'The premise of this book is that if you know how to program, you can use',\n",
       "  'that skill to learn other things, and have fun doing it.',\n",
       "  'With a programming-based approach, I can present the most important ideas',\n",
       "  'right away.',\n",
       "  'By the end of the rst chapter, you can analyze sound recordings',\n",
       "  'and other signals, and generate new sounds.',\n",
       "  'Each chapter introduces a new',\n",
       "  'technique and an application you can apply to real signals.',\n",
       "  'At each step you',\n",
       "  'learn how to use a technique rst, and then how it works.',\n",
       "  'This approach is more practical and, I hope youll agree, more fun.',\n",
       "  '0.1 Who is this book for?',\n",
       "  'The examples and supporting code for this book are in Python.',\n",
       "  'You should',\n",
       "  'know core Python and you should be familiar with object-oriented features,',\n",
       "  'at least using objects if not dening your own.',\n",
       "  'If you are not already familiar with Python, you might want to start with',\n",
       "  'my other book, Think Python, which is an introduction to Python for people',\n",
       "  'who have never programmed, or Mark Lutzs Learning Python, which might',\n",
       "  'be better for people with programming experience.',\n",
       "  ' vi',\n",
       "  'Chapter 0.',\n",
       "  'Preface',\n",
       "  'I use NumPy and SciPy extensively.',\n",
       "  'If you are familiar with them already,',\n",
       "  'thats great, but I will also explain the functions and data structures I use.',\n",
       "  'I assume that the reader knows basic mathematics, including complex num-',\n",
       "  'bers.',\n",
       "  'You dont need much calculus; if you understand the concepts of inte-',\n",
       "  'gration and dierentiation, that will do.',\n",
       "  'I use some linear algebra, but I will',\n",
       "  'explain it as we go along.',\n",
       "  '0.2 Using the code',\n",
       "  'The code and sound samples used in this book are available from https:',\n",
       "  '//github.com/AllenDowney/ThinkDSP.',\n",
       "  'Git is a version control system that',\n",
       "  'allows you to keep track of the les that make up a project.',\n",
       "  'A collection of',\n",
       "  'les under Gits control is called a repository.',\n",
       "  'GitHub is a hosting service',\n",
       "  'that provides storage for Git repositories and a convenient web interface.',\n",
       "  'The GitHub homepage for my repository provides several ways to work with',\n",
       "  'the code:',\n",
       "  ' You can create a copy of my repository on GitHub by pressing the Fork',\n",
       "  'button.',\n",
       "  'If you dont already have a GitHub account, youll need to',\n",
       "  'create one.',\n",
       "  'After forking, youll have your own repository on GitHub',\n",
       "  'that you can use to keep track of code you write while working on this',\n",
       "  'book.',\n",
       "  'Then you can clone the repo, which means that you copy the les',\n",
       "  'to your computer.',\n",
       "  ' Or you could clone my repository.',\n",
       "  'You dont need a GitHub account to',\n",
       "  'do this, but you wont be able to write your changes back to GitHub.',\n",
       "  ' If you dont want to use Git at all, you can download the les in a Zip',\n",
       "  'le using the button in the lower-right corner of the GitHub page.',\n",
       "  'All of the code is written to work in both Python 2 and Python 3 with no',\n",
       "  'translation.',\n",
       "  'I developed this book using Anaconda from Continuum Analytics, which is a',\n",
       "  'free Python distribution that includes all the packages youll need to run the',\n",
       "  'code (and lots more).',\n",
       "  'I found Anaconda easy to install.',\n",
       "  'By default it does',\n",
       "  'a user-level installation, not system-level, so you dont need administrative',\n",
       "  'privileges.',\n",
       "  'And it supports both Python 2 and Python 3.',\n",
       "  'You can download',\n",
       "  'Anaconda from https://www.anaconda.com/distribution/.',\n",
       "  'If you dont want to use Anaconda, you will need the following packages:',\n",
       "  ' 0.2.',\n",
       "  'Using the code',\n",
       "  'vii',\n",
       "  ' NumPy for basic numerical computation, http://www.numpy.org/;',\n",
       "  ' SciPy for scientic computation, http://www.scipy.org/;',\n",
       "  ' matplotlib for visualization, http://matplotlib.org/.',\n",
       "  'Although these are commonly used packages, they are not included with all',\n",
       "  'Python installations, and they can be hard to install in some environments.',\n",
       "  'If',\n",
       "  'you have trouble installing them, I recommend using Anaconda or one of the',\n",
       "  'other Python distributions that include these packages.',\n",
       "  'Most exercises use Python scripts, but some also use Jupyter notebooks.',\n",
       "  'If you',\n",
       "  'have not used Jupyter before, you can read about it at http://jupyter.org.',\n",
       "  'There are three ways you can work with the Jupyter notebooks:',\n",
       "  'Run Jupyter on your computer If you installed Anaconda, you probably',\n",
       "  'got Jupyter by default.',\n",
       "  'To check, start the server from the command',\n",
       "  'line, like this:',\n",
       "  '$ jupyter notebook',\n",
       "  'If its not installed, you can install it in Anaconda like this:',\n",
       "  '$ conda install jupyter',\n",
       "  'When you start the server, it should launch your default web browser or',\n",
       "  'create a new tab in an open browser window.',\n",
       "  'Run Jupyter on Binder Binder is a service that runs Jupyter in a vir-',\n",
       "  'If you follow this link, http://mybinder.org/repo/',\n",
       "  'tual machine.',\n",
       "  'AllenDowney/ThinkDSP, you should get a Jupyter home page with the',\n",
       "  'notebooks for this book and the supporting data and scripts.',\n",
       "  'You can run the scripts and modify them to run your own code, but the',\n",
       "  'virtual machine you run in is temporary.',\n",
       "  'Any changes you make will',\n",
       "  'disappear, along with the virtual machine, if you leave it idle for more',\n",
       "  'than about an hour.',\n",
       "  'View notebooks on nbviewer When we refer to notebooks later in the',\n",
       "  'book, we will provide links to nbviewer, which provides a static view',\n",
       "  'of the code and results.',\n",
       "  'You can use these links to read the notebooks',\n",
       "  'and listen to the examples, but you wont be able to modify or run the',\n",
       "  'code, or use the interactive widgets.',\n",
       "  'Good luck, and have fun!',\n",
       "  ' viii',\n",
       "  'Chapter 0.',\n",
       "  'Preface',\n",
       "  'Contributor List',\n",
       "  'you',\n",
       "  'have',\n",
       "  'If',\n",
       "  'downey@allendowney.com.',\n",
       "  'I will add you to the contributor list (unless you ask to be omitted).',\n",
       "  'to',\n",
       "  'If I make a change based on your feedback,',\n",
       "  'correction,',\n",
       "  'suggestion',\n",
       "  'please',\n",
       "  'email',\n",
       "  'send',\n",
       "  'or',\n",
       "  'a',\n",
       "  'If you include at least part of the sentence the error appears in, that makes it',\n",
       "  'easy for me to search.',\n",
       "  'Page and section numbers are ne, too, but not as easy',\n",
       "  'to work with.',\n",
       "  'Thanks!',\n",
       "  ' Before I started writing, my thoughts about this book beneted from conver-',\n",
       "  'sations with Boulos Harb at Google and Aurelio Ramos, formerly at Harmonix',\n",
       "  'Music Systems.',\n",
       "  ' During the Fall 2013 semester, Nathan Lintz and Ian Daniher worked with',\n",
       "  'me on an independent study project and helped me with the rst draft of this',\n",
       "  'book.',\n",
       "  ' On Reddits DSP forum, the anonymous user RamjetSoundwave helped me',\n",
       "  'x a problem with my implementation of Brownian Noise.',\n",
       "  'And andodli found',\n",
       "  'a typo.',\n",
       "  ' In Spring 2015 I had the pleasure of teaching this material along with Prof.',\n",
       "  'Oscar Mur-Miranda and Prof.  Siddhartan Govindasamy.',\n",
       "  'Both made many',\n",
       "  'suggestions and corrections.',\n",
       "  ' Silas Gyger corrected an arithmetic error.',\n",
       "  ' Giuseppe Masetti sent a number of very helpful suggestions.',\n",
       "  ' Eric Peters sent many helpful suggestions.',\n",
       "  'Special thanks to Freesound, which is the source of many of the sound samples I',\n",
       "  'use in this book, and to the Freesound users who uploaded those sounds.',\n",
       "  'I include',\n",
       "  'some of their wave les in the GitHub repository for this book, using the original',\n",
       "  'le names, so it should be easy to nd their sources.',\n",
       "  'Unfortunately, most Freesound users dont make their real names available, so I',\n",
       "  'can only thank them using their user names.',\n",
       "  'Samples used in this book were con-',\n",
       "  'tributed by Freesound users:',\n",
       "  'iluppai, wc10, thirsk, docquesting, kleeb, landup,',\n",
       "  'zippi1, themusicalnomad, bcjordan, rockwehrmann, marcgascon7, jcveliz.',\n",
       "  'Thank',\n",
       "  'you all!']]"
      ]
     },
     "execution_count": 12,
     "metadata": {},
     "output_type": "execute_result"
    }
   ],
   "source": [
    "corpus"
   ]
  },
  {
   "cell_type": "code",
   "execution_count": 13,
   "id": "181dbd0e",
   "metadata": {},
   "outputs": [],
   "source": [
    "assert title == \"thinkdsp\"\n",
    "assert np.shape(corpus) == (1, 195)\n",
    "assert corpus[0][0] == 'Think DSP'\n",
    "assert corpus[0][1] == 'Digital Signal Processing in Python'"
   ]
  },
  {
   "cell_type": "code",
   "execution_count": null,
   "id": "e123d103",
   "metadata": {},
   "outputs": [],
   "source": []
  }
 ],
 "metadata": {
  "kernelspec": {
   "display_name": "Python 3 (ipykernel)",
   "language": "python",
   "name": "python3"
  },
  "language_info": {
   "codemirror_mode": {
    "name": "ipython",
    "version": 3
   },
   "file_extension": ".py",
   "mimetype": "text/x-python",
   "name": "python",
   "nbconvert_exporter": "python",
   "pygments_lexer": "ipython3",
   "version": "3.9.12"
  }
 },
 "nbformat": 4,
 "nbformat_minor": 5
}
