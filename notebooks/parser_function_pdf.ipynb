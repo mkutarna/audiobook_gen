{
 "cells": [
  {
   "cell_type": "code",
   "execution_count": 1,
   "id": "dfdbe718",
   "metadata": {},
   "outputs": [],
   "source": [
    "import re\n",
    "import numpy as np\n",
    "from pathlib import Path\n",
    "from nltk import tokenize, download\n",
    "from PyPDF2 import PdfReader\n",
    "from textwrap import TextWrapper"
   ]
  },
  {
   "cell_type": "code",
   "execution_count": 2,
   "id": "0f2b315d",
   "metadata": {},
   "outputs": [],
   "source": [
    "file_path = 'thinkdsp.pdf'\n",
    "# file_path = '2206.13446.pdf'\n",
    "# file_path = 'ref.pdf'"
   ]
  },
  {
   "cell_type": "code",
   "execution_count": 3,
   "id": "e4408e69",
   "metadata": {},
   "outputs": [],
   "source": [
    "def read_pdf(file_path):      \n",
    "    download('punkt', quiet=True)\n",
    "#     wrapper = TextWrapper(cf.MAX_CHAR_LEN, fix_sentence_endings=True)\n",
    "    wrapper = TextWrapper(140, fix_sentence_endings=True)\n",
    "\n",
    "    reader = PdfReader(file_path)\n",
    "    text_list = []\n",
    "    for page in reader.pages:\n",
    "        paragraph = page.extract_text()\n",
    "        paragraph = paragraph.replace('—', '-')\n",
    "        paragraph = re.sub(r'[^\\x00-\\x7f]', \"\", paragraph)\n",
    "        paragraph = re.sub(r'\\x0f', \" \", paragraph)\n",
    "        sentences = tokenize.sent_tokenize(paragraph)\n",
    "        \n",
    "        # Wrap sentences to maximum character limit\n",
    "        sentence_list = []\n",
    "        for sentence in sentences:\n",
    "            wrapped_sentences = wrapper.wrap(sentence)\n",
    "            sentence_list.append(wrapped_sentences)\n",
    "            \n",
    "        # Flatten list of list of sentences and append\n",
    "        trunc_sentences = [phrase for sublist in sentence_list for phrase in sublist]\n",
    "        text_list.append(trunc_sentences)\n",
    "    text_list = [[text for sentences in text_list for text in sentences]]\n",
    "    \n",
    "    # Parse out title from imported file path\n",
    "    txt_title = Path(file_path).stem.lower().replace(' ', '_')\n",
    "\n",
    "    return text_list, txt_title"
   ]
  },
  {
   "cell_type": "code",
   "execution_count": 4,
   "id": "c573662d",
   "metadata": {},
   "outputs": [],
   "source": [
    "corpus, title = read_pdf(file_path)"
   ]
  },
  {
   "cell_type": "code",
   "execution_count": 5,
   "id": "d60f21f1",
   "metadata": {},
   "outputs": [
    {
     "data": {
      "text/plain": [
       "(1, 99)"
      ]
     },
     "execution_count": 5,
     "metadata": {},
     "output_type": "execute_result"
    }
   ],
   "source": [
    "np.shape(corpus)"
   ]
  },
  {
   "cell_type": "code",
   "execution_count": 6,
   "id": "f2d0279c",
   "metadata": {},
   "outputs": [
    {
     "data": {
      "text/plain": [
       "'Think DSP Digital Signal Processing in Python Version 1.1.4'"
      ]
     },
     "execution_count": 6,
     "metadata": {},
     "output_type": "execute_result"
    }
   ],
   "source": [
    "corpus[0][0]"
   ]
  },
  {
   "cell_type": "code",
   "execution_count": 7,
   "id": "aa90524f",
   "metadata": {},
   "outputs": [
    {
     "data": {
      "text/plain": [
       "'thinkdsp'"
      ]
     },
     "execution_count": 7,
     "metadata": {},
     "output_type": "execute_result"
    }
   ],
   "source": [
    "title"
   ]
  },
  {
   "cell_type": "code",
   "execution_count": 8,
   "id": "41773a93",
   "metadata": {},
   "outputs": [
    {
     "data": {
      "text/plain": [
       "[['Think DSP Digital Signal Processing in Python Version 1.1.4',\n",
       "  'Think DSP Digital Signal Processing in Python Version 1.1.4 Allen B. Downey Green Tea Press Needham, Massachusetts',\n",
       "  'Copyright c 2014 Allen B. Downey.',\n",
       "  'Green Tea Press 9 Washburn Ave Needham MA 02492 Permission is granted to copy, distribute, and/or modify this document under the terms of',\n",
       "  'the Creative Commons Attribution-NonCommercial-ShareAlike 4.0 International License, which is available at http://creativecommons.',\n",
       "  'org/licenses/by-nc-sa/4.0/ .',\n",
       "  'The LATEX source for this book is available from http://think-dsp.com .',\n",
       "  'Preface Signal processing is one of my favorite topics.',\n",
       "  'It is useful in many areas of science and engineering, and if you understand the fundamental ideas, it provides insight into many things we',\n",
       "  'see in the world, and especially the things we hear.',\n",
       "  \"But unless you studied electrical or mechanical engineering, you probably haven't had a chance to learn about signal processing.\",\n",
       "  'The problem is that most books (and the classes that use them) present the material bottom-up, starting with mathematical abstractions like',\n",
       "  'phasors.',\n",
       "  'And they tend to be theoretical, with few applications and little apparent relevance.',\n",
       "  'The premise of this book is that if you know how to program, you can use that skill to learn other things, and have fun doing it.',\n",
       "  'With a programming-based approach, I can present the most important ideas right away.',\n",
       "  'By the end of the  rst chapter, you can analyze sound recordings and other signals, and generate new sounds.',\n",
       "  'Each chapter introduces a new technique and an application you can apply to real signals.',\n",
       "  'At each step you learn how to use a technique  rst, and then how it works.',\n",
       "  \"This approach is more practical and, I hope you'll agree, more fun.\",\n",
       "  '0.1 Who is this book for?',\n",
       "  'The examples and supporting code for this book are in Python.',\n",
       "  'You should know core Python and you should be familiar with object-oriented features, at least using objects if not de ning your own.',\n",
       "  'If you are not already familiar with Python, you might want to start with my other book, Think Python , which is an introduction to Python',\n",
       "  \"for people who have never programmed, or Mark Lutz's Learning Python , which might be better for people with programming experience.\",\n",
       "  'vi Chapter 0.',\n",
       "  'Preface I use NumPy and SciPy extensively.',\n",
       "  \"If you are familiar with them already, that's great, but I will also explain the functions and data structures I use.\",\n",
       "  'I assume that the reader knows basic mathematics, including complex num- bers.',\n",
       "  \"You don't need much calculus; if you understand the concepts of inte- gration and di erentiation, that will do.\",\n",
       "  'I use some linear algebra, but I will explain it as we go along.',\n",
       "  '0.2 Using the code The code and sound samples used in this book are available from https: //github.com/AllenDowney/ThinkDSP .',\n",
       "  'Git is a version control system that allows you to keep track of the  les that make up a project.',\n",
       "  'A collection of  les under Git\\'s control is called a \\\\repository\".',\n",
       "  'GitHub is a hosting service that provides storage for Git repositories and a convenient web interface.',\n",
       "  'The GitHub homepage for my repository provides several ways to work with the code:  You can create a copy of my repository on GitHub by',\n",
       "  'pressing the Fork button.',\n",
       "  \"If you don't already have a GitHub account, you'll need to create one.\",\n",
       "  \"After forking, you'll have your own repository on GitHub that you can use to keep track of code you write while working on this book.\",\n",
       "  'Then you can clone the repo, which means that you copy the  les to your computer.',\n",
       "  'Or you could clone my repository.',\n",
       "  \"You don't need a GitHub account to do this, but you won't be able to write your changes back to GitHub.\",\n",
       "  \"If you don't want to use Git at all, you can download the  les in a Zip  le using the button in the lower-right corner of the GitHub page.\",\n",
       "  'All of the code is written to work in both Python 2 and Python 3 with no translation.',\n",
       "  \"I developed this book using Anaconda from Continuum Analytics, which is a free Python distribution that includes all the packages you'll\",\n",
       "  'need to run the code (and lots more).',\n",
       "  'I found Anaconda easy to install.',\n",
       "  \"By default it does a user-level installation, not system-level, so you don't need administrative privileges.\",\n",
       "  'And it supports both Python 2 and Python 3.',\n",
       "  'You can download Anaconda from https://www.anaconda.com/distribution/ .',\n",
       "  \"If you don't want to use Anaconda, you will need the following packages:\",\n",
       "  '0.2.',\n",
       "  'Using the code vii  NumPy for basic numerical computation, http://www.numpy.org/ ;  SciPy for scienti c computation, http://www.scipy.org/ ;',\n",
       "  'matplotlib for visualization, http://matplotlib.org/ .',\n",
       "  'Although these are commonly used packages, they are not included with all Python installations, and they can be hard to install in some',\n",
       "  'environments.',\n",
       "  'If you have trouble installing them, I recommend using Anaconda or one of the other Python distributions that include these packages.',\n",
       "  'Most exercises use Python scripts, but some also use Jupyter notebooks.',\n",
       "  'If you have not used Jupyter before, you can read about it at http://jupyter.org .',\n",
       "  'There are three ways you can work with the Jupyter notebooks: Run Jupyter on your computer If you installed Anaconda, you probably got',\n",
       "  'Jupyter by default.',\n",
       "  \"To check, start the server from the command line, like this: $ jupyter notebook If it's not installed, you can install it in Anaconda like\",\n",
       "  'this: $ conda install jupyter When you start the server, it should launch your default web browser or create a new tab in an open browser',\n",
       "  'window.',\n",
       "  'Run Jupyter on Binder Binder is a service that runs Jupyter in a vir- tual machine.',\n",
       "  'If you follow this link, http://mybinder.org/repo/ AllenDowney/ThinkDSP , you should get a Jupyter home page with the notebooks for this',\n",
       "  'book and the supporting data and scripts.',\n",
       "  'You can run the scripts and modify them to run your own code, but the virtual machine you run in is temporary.',\n",
       "  'Any changes you make will disappear, along with the virtual machine, if you leave it idle for more than about an hour.',\n",
       "  'View notebooks on nbviewer When we refer to notebooks later in the book, we will provide links to nbviewer, which provides a static view of',\n",
       "  'the code and results.',\n",
       "  \"You can use these links to read the notebooks and listen to the examples, but you won't be able to modify or run the code, or use the\",\n",
       "  'interactive widgets.',\n",
       "  'Good luck, and have fun!',\n",
       "  'viii Chapter 0.',\n",
       "  'Preface Contributor List If you have a suggestion or correction, please send email to downey@allendowney.com .',\n",
       "  'If I make a change based on your feedback, I will add you to the contributor list (unless you ask to be omitted).',\n",
       "  'If you include at least part of the sentence the error appears in, that makes it easy for me to search.',\n",
       "  'Page and section numbers are  ne, too, but not as easy to work with.',\n",
       "  'Thanks!',\n",
       "  'Before I started writing, my thoughts about this book bene ted from conver- sations with Boulos Harb at Google and Aurelio Ramos, formerly',\n",
       "  'at Harmonix Music Systems.',\n",
       "  'During the Fall 2013 semester, Nathan Lintz and Ian Daniher worked with me on an independent study project and helped me with the  rst draft',\n",
       "  'of this book.',\n",
       "  \"On Reddit's DSP forum, the anonymous user RamjetSoundwave helped me  x a problem with my implementation of Brownian Noise.\",\n",
       "  'And andodli found a typo.',\n",
       "  'In Spring 2015 I had the pleasure of teaching this material along with Prof.  Oscar Mur-Miranda and Prof.  Siddhartan Govindasamy.',\n",
       "  'Both made many suggestions and corrections.',\n",
       "  'Silas Gyger corrected an arithmetic error.',\n",
       "  'Giuseppe Masetti sent a number of very helpful suggestions.',\n",
       "  'Eric Peters sent many helpful suggestions.',\n",
       "  'Special thanks to Freesound, which is the source of many of the sound samples I use in this book, and to the Freesound users who uploaded',\n",
       "  'those sounds.',\n",
       "  'I include some of their wave  les in the GitHub repository for this book, using the original  le names, so it should be easy to  nd their',\n",
       "  'sources.',\n",
       "  \"Unfortunately, most Freesound users don't make their real names available, so I can only thank them using their user names.\",\n",
       "  'Samples used in this book were con- tributed by Freesound users: iluppai, wc 10, thirsk, docquesting, kleeb, landup, zippi1,',\n",
       "  'themusicalnomad, bcjordan, rockwehrmann, marcgascon7, jcveliz.',\n",
       "  'Thank you all!']]"
      ]
     },
     "execution_count": 8,
     "metadata": {},
     "output_type": "execute_result"
    }
   ],
   "source": [
    "corpus"
   ]
  },
  {
   "cell_type": "code",
   "execution_count": 9,
   "id": "181dbd0e",
   "metadata": {},
   "outputs": [],
   "source": [
    "assert title == \"thinkdsp\"\n",
    "assert np.shape(corpus) == (1, 99)\n",
    "assert corpus[0][0] == 'Think DSP Digital Signal Processing in Python Version 1.1.4'\n",
    "assert corpus[0][1] == 'Think DSP Digital Signal Processing in Python Version 1.1.4 Allen B. Downey Green Tea Press Needham, Massachusetts'"
   ]
  },
  {
   "cell_type": "code",
   "execution_count": null,
   "id": "b0cd1a4c",
   "metadata": {},
   "outputs": [],
   "source": []
  }
 ],
 "metadata": {
  "kernelspec": {
   "display_name": "Python 3 (ipykernel)",
   "language": "python",
   "name": "python3"
  },
  "language_info": {
   "codemirror_mode": {
    "name": "ipython",
    "version": 3
   },
   "file_extension": ".py",
   "mimetype": "text/x-python",
   "name": "python",
   "nbconvert_exporter": "python",
   "pygments_lexer": "ipython3",
   "version": "3.9.12"
  },
  "vscode": {
   "interpreter": {
    "hash": "28f08047abef76e8ebd9a18cf727b527c20fbbe23c02231d691d22bd9aab3e77"
   }
  }
 },
 "nbformat": 4,
 "nbformat_minor": 5
}
