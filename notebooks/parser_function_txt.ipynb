{
 "cells": [
  {
   "cell_type": "code",
   "execution_count": 1,
   "id": "603fd279",
   "metadata": {},
   "outputs": [],
   "source": [
    "import re\n",
    "import numpy as np\n",
    "from pathlib import Path\n",
    "from bs4 import BeautifulSoup\n",
    "from nltk import tokenize, download\n",
    "from textwrap import TextWrapper"
   ]
  },
  {
   "cell_type": "code",
   "execution_count": 2,
   "id": "345c22ff",
   "metadata": {},
   "outputs": [],
   "source": [
    "txt_path = 'test.txt'"
   ]
  },
  {
   "cell_type": "code",
   "execution_count": 3,
   "id": "9bd1afbf",
   "metadata": {},
   "outputs": [],
   "source": [
    "def read_txt(txt_path):      \n",
    "    download('punkt', quiet=True)\n",
    "#     wrapper = TextWrapper(cf.MAX_CHAR_LEN, fix_sentence_endings=True)\n",
    "    wrapper = TextWrapper(140, fix_sentence_endings=True)\n",
    "\n",
    "    with open('test.txt') as f:\n",
    "        book = f.read()\n",
    "    \n",
    "    input_text = BeautifulSoup(book, \"html.parser\").text\n",
    "    text_list = []\n",
    "    for paragraph in input_text.split('\\n'):\n",
    "        paragraph = paragraph.replace('—', '-')\n",
    "        paragraph = re.sub(r'[^\\x00-\\x7f]', \"\", paragraph)\n",
    "        sentences = tokenize.sent_tokenize(paragraph)\n",
    "        \n",
    "        # Wrap sentences to maximum character limit\n",
    "        sentence_list = []\n",
    "        for sentence in sentences:\n",
    "            wrapped_sentences = wrapper.wrap(sentence)\n",
    "            sentence_list.append(wrapped_sentences)\n",
    "            \n",
    "        # Flatten list of list of sentences and append\n",
    "        trunc_sentences = [phrase for sublist in sentence_list for phrase in sublist]\n",
    "        text_list.append(trunc_sentences)\n",
    "    text_list = [[text for sentences in text_list for text in sentences]]\n",
    "    \n",
    "    # Parse out title from imported file path\n",
    "    txt_title = Path(txt_path).stem.lower().replace(' ', '_')\n",
    "\n",
    "    return text_list, txt_title"
   ]
  },
  {
   "cell_type": "code",
   "execution_count": 4,
   "id": "3c8c835c",
   "metadata": {},
   "outputs": [],
   "source": [
    "corpus, title = read_txt(txt_path)"
   ]
  },
  {
   "cell_type": "code",
   "execution_count": 5,
   "id": "7b0c694c",
   "metadata": {},
   "outputs": [
    {
     "data": {
      "text/plain": [
       "(1, 26)"
      ]
     },
     "execution_count": 5,
     "metadata": {},
     "output_type": "execute_result"
    }
   ],
   "source": [
    "np.shape(corpus)"
   ]
  },
  {
   "cell_type": "code",
   "execution_count": 6,
   "id": "79ebb333",
   "metadata": {},
   "outputs": [
    {
     "data": {
      "text/plain": [
       "'Testing Text File'"
      ]
     },
     "execution_count": 6,
     "metadata": {},
     "output_type": "execute_result"
    }
   ],
   "source": [
    "corpus[0][0]"
   ]
  },
  {
   "cell_type": "code",
   "execution_count": 7,
   "id": "2329b01e",
   "metadata": {},
   "outputs": [
    {
     "data": {
      "text/plain": [
       "'test'"
      ]
     },
     "execution_count": 7,
     "metadata": {},
     "output_type": "execute_result"
    }
   ],
   "source": [
    "title"
   ]
  },
  {
   "cell_type": "code",
   "execution_count": 11,
   "id": "b2e6f06e",
   "metadata": {},
   "outputs": [
    {
     "data": {
      "text/plain": [
       "[['Testing Text File',\n",
       "  'With generated Random Lorem Ipsum and other unexpected characters!',\n",
       "  'Link to generator repo!',\n",
       "  'Lorem ipsum dolor sit amet, consectetur adipiscing elit, sed do eiusmod tempor incididunt ut labore et dolore magna aliqua.',\n",
       "  'Proin fermentum leo vel orci porta non pulvinar.',\n",
       "  'Pretium lectus quam id leo in vitae turpis massa sed.',\n",
       "  'Donec ac odio tempor orci dapibus.',\n",
       "  'Feugiat in ante metus dictum at tempor.',\n",
       "  'Elementum tempus egestas sed sed risus.',\n",
       "  'Adipiscing commodo elit at imperdiet dui accumsan sit.',\n",
       "  'Placerat orci nulla pellentesque dignissim enim.',\n",
       "  'Posuere lorem ipsum dolor sit.',\n",
       "  'Id ornare arcu odio ut sem.',\n",
       "  'Purus faucibus ornare suspendisse sed nisi lacus sed.',\n",
       "  'Ac turpis egestas sed tempus urna et pharetra pharetra massa.',\n",
       "  'Morbi quis commodo odio aenean.',\n",
       "  'Malesuada proin libero nunc consequat interdum.',\n",
       "  'Ut placerat orci nulla pellentesque dignissim enim sit.',\n",
       "  'Elit at imperdiet dui accumsan sit amet.',\n",
       "  'Built to test various characters and other possible inputs to the silero model.',\n",
       "  'Here are some Chinese characters: .',\n",
       "  'There are 24 letters in the Greek alphabet.',\n",
       "  'The vowels: are , , , , , , .',\n",
       "  'All the rest are consonants.',\n",
       "  'We can also test from mathematical symbols: , , , , , X, %,  ,a, , , +, = ,-.',\n",
       "  'Finally, here are some emoticons: .']]"
      ]
     },
     "execution_count": 11,
     "metadata": {},
     "output_type": "execute_result"
    }
   ],
   "source": [
    "corpus"
   ]
  },
  {
   "cell_type": "code",
   "execution_count": 13,
   "id": "74623878",
   "metadata": {},
   "outputs": [],
   "source": [
    "assert title == \"test\"\n",
    "assert np.shape(corpus) == (1, 26)\n",
    "assert corpus[0][0] == 'Testing Text File'\n",
    "assert corpus[0][2] == 'Link to generator repo!'\n",
    "assert corpus[0][20] == 'Here are some Chinese characters: .'\n",
    "assert corpus[0][22] == 'The vowels: are , , , , , , .'\n",
    "assert corpus[0][24] == 'We can also test from mathematical symbols: , , , , , X, %,  ,a, , , +, = ,-.'\n",
    "assert corpus[0][25] == 'Finally, here are some emoticons: .'"
   ]
  },
  {
   "cell_type": "code",
   "execution_count": null,
   "id": "0d2bb168",
   "metadata": {},
   "outputs": [],
   "source": []
  }
 ],
 "metadata": {
  "kernelspec": {
   "display_name": "Python 3 (ipykernel)",
   "language": "python",
   "name": "python3"
  },
  "language_info": {
   "codemirror_mode": {
    "name": "ipython",
    "version": 3
   },
   "file_extension": ".py",
   "mimetype": "text/x-python",
   "name": "python",
   "nbconvert_exporter": "python",
   "pygments_lexer": "ipython3",
   "version": "3.9.12"
  }
 },
 "nbformat": 4,
 "nbformat_minor": 5
}
