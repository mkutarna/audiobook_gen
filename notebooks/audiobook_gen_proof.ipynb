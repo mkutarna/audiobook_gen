{
 "cells": [
  {
   "cell_type": "markdown",
   "metadata": {},
   "source": [
    "# Audiobook Generator - Proof of Concept\n",
    "\n",
    "This notebook is intended to be a proof of concept for the end-to-end work of generating an audiobook file from an ebook. This includes converting the .epub book files into raw python trxt strings, splitting into items and sentences, then tokenizing and batching them to run through the Nvidia implementation of Tacotron2.\n",
    "\n",
    "\n",
    "## Outline of steps\n",
    "\n",
    "1. Import .epub file\n",
    "2. Divide ebook into chapters\n",
    "3. Remove html tags\n",
    "4. Tokenize text for use in the model"
   ]
  },
  {
   "cell_type": "code",
   "execution_count": 1,
   "metadata": {},
   "outputs": [
    {
     "name": "stderr",
     "output_type": "stream",
     "text": [
      "/home/matthew/anaconda3/envs/ttsenv/lib/python3.9/site-packages/pydub/utils.py:170: RuntimeWarning: Couldn't find ffmpeg or avconv - defaulting to ffmpeg, but may not work\n",
      "  warn(\"Couldn't find ffmpeg or avconv - defaulting to ffmpeg, but may not work\", RuntimeWarning)\n"
     ]
    }
   ],
   "source": [
    "import numpy as np\n",
    "import matplotlib.pyplot as plt\n",
    "import torch\n",
    "import numpy as np\n",
    "from torch.utils.data import DataLoader\n",
    "from pydub import AudioSegment\n",
    "from IPython.display import Audio\n",
    "from tqdm.notebook import tqdm\n",
    "\n",
    "seed = 1337\n",
    "np.random.seed(seed)\n",
    "torch.manual_seed(seed)\n",
    "torch.cuda.manual_seed(seed)"
   ]
  },
  {
   "cell_type": "code",
   "execution_count": 2,
   "metadata": {},
   "outputs": [],
   "source": [
    "device = 'cuda' if torch.cuda.is_available() else 'cpu'"
   ]
  },
  {
   "cell_type": "code",
   "execution_count": 3,
   "metadata": {},
   "outputs": [],
   "source": [
    "ebook_path = 'pg2554.epub'\n",
    "rate = 22050\n",
    "batch_size = 100\n",
    "max_char_len = 150"
   ]
  },
  {
   "cell_type": "code",
   "execution_count": null,
   "metadata": {},
   "outputs": [],
   "source": [
    "# !pip install nvidia-pyindex\n",
    "# !pip install pytorch-quantization"
   ]
  },
  {
   "cell_type": "code",
   "execution_count": null,
   "metadata": {},
   "outputs": [],
   "source": [
    "### tacotron2 = torch.hub.load(\n",
    "#     'NVIDIA/DeepLearningExamples:torchhub', \n",
    "#     'nvidia_tacotron2', \n",
    "#     model_math='fp16',  \n",
    "#     map_location=torch.device(device)\n",
    "# )\n",
    "tacotron2 = torch.hub.load_state_dict_from_url(\n",
    "    'https://ngc.nvidia.com/catalog/models/nvidia:tacotron2pyt_fp32/files?version=3', \n",
    "    map_location=torch.device(device)\n",
    ")\n",
    "tacotron2 = tacotron2.to(device)\n",
    "# tacotron2 = tacotron2.eval()\n",
    "\n",
    "utils = torch.hub.load('NVIDIA/DeepLearningExamples:torchhub', 'nvidia_tts_utils')\n",
    "\n",
    "waveglow = torch.hub.load(\n",
    "    'NVIDIA/DeepLearningExamples:torchhub', \n",
    "    'nvidia_waveglow', \n",
    "    model_math='fp16',  \n",
    "    map_location=torch.device(device)\n",
    ")\n",
    "waveglow = waveglow.remove_weightnorm(waveglow)\n",
    "waveglow = waveglow.to(device)\n",
    "waveglow = waveglow.eval()"
   ]
  },
  {
   "cell_type": "code",
   "execution_count": 40,
   "metadata": {},
   "outputs": [],
   "source": [
    "def read_ebook(ebook_path):\n",
    "    \n",
    "    import ebooklib\n",
    "    from ebooklib import epub\n",
    "    from bs4 import BeautifulSoup\n",
    "    from tqdm.notebook import tqdm\n",
    "    from nltk import tokenize, download\n",
    "    from textwrap import TextWrapper\n",
    "    \n",
    "    download('punkt')\n",
    "    wrapper = TextWrapper(max_char_len, fix_sentence_endings=True)\n",
    "    \n",
    "    book = epub.read_epub(ebook_path)\n",
    "\n",
    "    corpus = []\n",
    "    for item in tqdm(list(book.get_items())):\n",
    "        if item.get_type() == ebooklib.ITEM_DOCUMENT:\n",
    "            input_text = BeautifulSoup(item.get_content(), \"html.parser\").text\n",
    "            text_list = []\n",
    "            for paragraph in input_text.split('\\n'):\n",
    "                paragraph = paragraph.replace('—', '-')\n",
    "                sentences = tokenize.sent_tokenize(paragraph)\n",
    "                \n",
    "                # Truncate sentences to maximum character limit\n",
    "                sentence_list = []\n",
    "                for sentence in sentences:\n",
    "                    wrapped_sentences = wrapper.wrap(sentence)\n",
    "                    sentence_list.append(wrapped_sentences)\n",
    "                # Flatten list of list of sentences\n",
    "                trunc_sentences = [phrase for sublist in sentence_list for phrase in sublist]\n",
    "                \n",
    "                text_list.append(trunc_sentences)\n",
    "            text_list = [text for sentences in text_list for text in sentences]\n",
    "            corpus.append(text_list)\n",
    "\n",
    "    return corpus"
   ]
  },
  {
   "cell_type": "code",
   "execution_count": 41,
   "metadata": {},
   "outputs": [
    {
     "name": "stderr",
     "output_type": "stream",
     "text": [
      "[nltk_data] Downloading package punkt to /home/matthew/nltk_data...\n",
      "[nltk_data]   Package punkt is already up-to-date!\n"
     ]
    },
    {
     "data": {
      "application/vnd.jupyter.widget-view+json": {
       "model_id": "1050c77b069f4305b5a88dde59f939bc",
       "version_major": 2,
       "version_minor": 0
      },
      "text/plain": [
       "  0%|          | 0/55 [00:00<?, ?it/s]"
      ]
     },
     "metadata": {},
     "output_type": "display_data"
    }
   ],
   "source": [
    "ebook = read_ebook(ebook_path)"
   ]
  },
  {
   "cell_type": "code",
   "execution_count": 42,
   "metadata": {},
   "outputs": [
    {
     "data": {
      "text/plain": [
       "50"
      ]
     },
     "execution_count": 42,
     "metadata": {},
     "output_type": "execute_result"
    }
   ],
   "source": [
    "len(ebook)"
   ]
  },
  {
   "cell_type": "code",
   "execution_count": 43,
   "metadata": {},
   "outputs": [
    {
     "data": {
      "text/plain": [
       "[' CHAPTER III',\n",
       " 'He waked up late next day after a broken sleep.',\n",
       " 'But his sleep had not refreshed him; he waked up bilious, irritable, ill-tempered, and looked with hatred at his room.',\n",
       " 'It was a tiny cupboard of a room about six paces in length.',\n",
       " 'It had a poverty-stricken appearance with its dusty yellow paper peeling off the walls, and it was so low-pitched that a man of more than average',\n",
       " 'height was ill at ease in it and felt every moment that he would knock his head against the ceiling.',\n",
       " 'The furniture was in keeping with the room: there were three old chairs, rather rickety; a painted table in the corner on which lay a few manuscripts',\n",
       " 'and books; the dust that lay thick upon them showed that they had been long untouched.',\n",
       " 'A big clumsy sofa occupied almost the whole of one wall and half the floor space of the room; it was once covered with chintz, but was now in rags and',\n",
       " 'served Raskolnikov as a bed.',\n",
       " 'Often he went to sleep on it, as he was, without undressing, without sheets, wrapped in his old student’s overcoat, with his head on one little',\n",
       " 'pillow, under which he heaped up all the linen he had, clean and dirty, by way of a bolster.',\n",
       " 'A little table stood in front of the sofa.',\n",
       " 'It would have been difficult to sink to a lower ebb of disorder, but to Raskolnikov in his present state of mind this was positively agreeable.',\n",
       " 'He had got completely away from everyone, like a tortoise in its shell, and even the sight of a servant girl who had to wait upon him and looked',\n",
       " 'sometimes into his room made him writhe with nervous irritation.',\n",
       " 'He was in the condition that overtakes some monomaniacs entirely concentrated upon one thing.',\n",
       " 'His landlady had for the last fortnight given up sending him in meals, and he had not yet thought of expostulating with her, though he went without',\n",
       " 'his dinner.',\n",
       " 'Nastasya, the cook and only servant, was rather pleased at the lodger’s mood and had entirely given up sweeping and doing his room, only once a week',\n",
       " 'or so she would stray into his room with a broom.',\n",
       " 'She waked him up that day.',\n",
       " '“Get up, why are you asleep?” she called to him.',\n",
       " '“It’s past nine, I have brought you some tea; will you have a cup?',\n",
       " 'I should think you’re fairly starving?”',\n",
       " 'Raskolnikov opened his eyes, started and recognised Nastasya.',\n",
       " '“From the landlady, eh?” he asked, slowly and with a sickly face sitting up on the sofa.',\n",
       " '“From the landlady, indeed!”',\n",
       " 'She set before him her own cracked teapot full of weak and stale tea and laid two yellow lumps of sugar by the side of it.',\n",
       " '“Here, Nastasya, take it please,” he said, fumbling in his pocket (for he had slept in his clothes) and taking out a handful of coppers-“run and buy',\n",
       " 'me a loaf.',\n",
       " 'And get me a little sausage, the cheapest, at the pork-butcher’s.”',\n",
       " '“The loaf I’ll fetch you this very minute, but wouldn’t you rather have some cabbage soup instead of sausage?',\n",
       " 'It’s capital soup, yesterday’s.',\n",
       " 'I saved it for you yesterday, but you came in late.',\n",
       " 'It’s fine soup.”',\n",
       " 'When the soup had been brought, and he had begun upon it, Nastasya sat down beside him on the sofa and began chatting.',\n",
       " 'She was a country peasant-woman and a very talkative one.',\n",
       " '“Praskovya Pavlovna means to complain to the police about you,” she said.',\n",
       " 'He scowled.',\n",
       " '“To the police?',\n",
       " 'What does she want?”',\n",
       " '“You don’t pay her money and you won’t turn out of the room.',\n",
       " 'That’s what she wants, to be sure.”',\n",
       " '“The devil, that’s the last straw,” he muttered, grinding his teeth, “no, that would not suit me... just now.',\n",
       " 'She is a fool,” he added aloud.',\n",
       " '“I’ll go and talk to her to-day.”',\n",
       " '“Fool she is and no mistake, just as I am.',\n",
       " 'But why, if you are so clever, do you lie here like a sack and have nothing to show for it?',\n",
       " 'One time you used to go out, you say, to teach children.',\n",
       " 'But why is it you do nothing now?”',\n",
       " '“I am doing...” Raskolnikov began sullenly and reluctantly.',\n",
       " '“What are you doing?”',\n",
       " '“Work...”',\n",
       " '“What sort of work?”',\n",
       " '“I am thinking,” he answered seriously after a pause.',\n",
       " 'Nastasya was overcome with a fit of laughter.',\n",
       " 'She was given to laughter and when anything amused her, she laughed inaudibly, quivering and shaking all over till she felt ill.',\n",
       " '“And have you made much money by your thinking?” she managed to articulate at last.',\n",
       " '“One can’t go out to give lessons without boots.',\n",
       " 'And I’m sick of it.”',\n",
       " '“Don’t quarrel with your bread and butter.”',\n",
       " '“They pay so little for lessons.',\n",
       " 'What’s the use of a few coppers?” he answered, reluctantly, as though replying to his own thought.',\n",
       " '“And you want to get a fortune all at once?”',\n",
       " 'He looked at her strangely.',\n",
       " '“Yes, I want a fortune,” he answered firmly, after a brief pause.',\n",
       " '“Don’t be in such a hurry, you quite frighten me!',\n",
       " 'Shall I get you the loaf or not?”',\n",
       " '“As you please.”',\n",
       " '“Ah, I forgot!',\n",
       " 'A letter came for you yesterday when you were out.”',\n",
       " '“A letter?',\n",
       " 'for me!',\n",
       " 'from whom?”',\n",
       " '“I can’t say.',\n",
       " 'I gave three copecks of my own to the postman for it.',\n",
       " 'Will you pay me back?”',\n",
       " '“Then bring it to me, for God’s sake, bring it,” cried Raskolnikov greatly excited-“good God!”',\n",
       " 'A minute later the letter was brought him.',\n",
       " 'That was it: from his mother, from the province of R--.',\n",
       " 'He turned pale when he took it.',\n",
       " 'It was a long while since he had received a letter, but another feeling also suddenly stabbed his heart.',\n",
       " '“Nastasya, leave me alone, for goodness’ sake; here are your three copecks, but for goodness’ sake, make haste and go!”',\n",
       " 'The letter was quivering in his hand; he did not want to open it in her presence; he wanted to be left alone with this letter.',\n",
       " 'When Nastasya had gone out, he lifted it quickly to his lips and kissed it; then he gazed intently at the address, the small, sloping handwriting, so',\n",
       " 'dear and familiar, of the mother who had once taught him to read and write.',\n",
       " 'He delayed; he seemed almost afraid of something.',\n",
       " 'At last he opened it; it was a thick heavy letter, weighing over two ounces, two large sheets of note paper were covered with very small handwriting.',\n",
       " '“My dear Rodya,” wrote his mother-“it’s two months since I last had a talk with you by letter which has distressed me and even kept me awake at night,',\n",
       " 'thinking.',\n",
       " 'But I am sure you will not blame me for my inevitable silence.',\n",
       " 'You know how I love you; you are all we have to look to, Dounia and I, you are our all, our one hope, our one stay.',\n",
       " 'What a grief it was to me when I heard that you had given up the university some months ago, for want of means to keep yourself and that you had lost',\n",
       " 'your lessons and your other work!',\n",
       " 'How could I help you out of my hundred and twenty roubles a year pension?',\n",
       " 'The fifteen roubles I sent you four months ago I borrowed, as you know, on security of my pension, from Vassily Ivanovitch Vahrushin a merchant of',\n",
       " 'this town.',\n",
       " 'He is a kind-hearted man and was a friend of your father’s too.',\n",
       " 'But having given him the right to receive the pension, I had to wait till the debt was paid off and that is only just done, so that I’ve been unable',\n",
       " 'to send you anything all this time.',\n",
       " 'But now, thank God, I believe I shall be able to send you something more and in fact we may congratulate ourselves on our good fortune now, of which I',\n",
       " 'hasten to inform you.',\n",
       " 'In the first place, would you have guessed, dear Rodya, that your sister has been living with me for the last six weeks and we shall not be separated',\n",
       " 'in the future.',\n",
       " 'Thank God, her sufferings are over, but I will tell you everything in order, so that you may know just how everything has happened and all that we',\n",
       " 'have hitherto concealed from you.',\n",
       " 'When you wrote to me two months ago that you had heard that Dounia had a great deal to put up with in the Svidrigaïlovs’ house, when you wrote that',\n",
       " 'and asked me to tell you all about it-what could I write in answer to you?',\n",
       " 'If I had written the whole truth to you, I dare say you would have thrown up everything and have come to us, even if you had to walk all the way, for',\n",
       " 'I know your character and your feelings, and you would not let your sister be insulted.',\n",
       " 'I was in despair myself, but what could I do?',\n",
       " 'And, besides, I did not know the whole truth myself then.',\n",
       " 'What made it all so difficult was that Dounia received a hundred roubles in advance when she took the place as governess in their family, on condition',\n",
       " 'of part of her salary being deducted every month, and so it was impossible to throw up the situation without repaying the debt.',\n",
       " 'This sum (now I can explain it all to you, my precious Rodya) she took chiefly in order to send you sixty roubles, which you needed so terribly then',\n",
       " 'and which you received from us last year.',\n",
       " 'We deceived you then, writing that this money came from Dounia’s savings, but that was not so, and now I tell you all about it, because, thank God,',\n",
       " 'things have suddenly changed for the better, and that you may know how Dounia loves you and what a heart she has.',\n",
       " 'At first indeed Mr.  Svidrigaïlov treated her very rudely and used to make disrespectful and jeering remarks at table....',\n",
       " 'But I don’t want to go into all those painful details, so as not to worry you for nothing when it is now all over.',\n",
       " 'In short, in spite of the kind and generous behaviour of Marfa Petrovna, Mr.  Svidrigaïlov’s wife, and all the rest of the household, Dounia had a',\n",
       " 'very hard time, especially when Mr.  Svidrigaïlov, relapsing into his old regimental habits, was under the influence of Bacchus.',\n",
       " 'And how do you think it was all explained later on?',\n",
       " 'Would you believe that the crazy fellow had conceived a passion for Dounia from the beginning, but had concealed it under a show of rudeness and',\n",
       " 'contempt.',\n",
       " 'Possibly he was ashamed and horrified himself at his own flighty hopes, considering his years and his being the father of a family; and that made him',\n",
       " 'angry with Dounia.',\n",
       " 'And possibly, too, he hoped by his rude and sneering behaviour to hide the truth from others.',\n",
       " 'But at last he lost all control and had the face to make Dounia an open and shameful proposal, promising her all sorts of inducements and offering,',\n",
       " 'besides, to throw up everything and take her to another estate of his, or even abroad.',\n",
       " 'You can imagine all she went through!',\n",
       " 'To leave her situation at once was impossible not only on account of the money debt, but also to spare the feelings of Marfa Petrovna, whose',\n",
       " 'suspicions would have been aroused: and then Dounia would have been the cause of a rupture in the family.',\n",
       " 'And it would have meant a terrible scandal for Dounia too; that would have been inevitable.',\n",
       " 'There were various other reasons owing to which Dounia could not hope to escape from that awful house for another six weeks.',\n",
       " 'You know Dounia, of course; you know how clever she is and what a strong will she has.',\n",
       " 'Dounia can endure a great deal and even in the most difficult cases she has the fortitude to maintain her firmness.',\n",
       " 'She did not even write to me about everything for fear of upsetting me, although we were constantly in communication.',\n",
       " 'It all ended very unexpectedly.',\n",
       " 'Marfa Petrovna accidentally overheard her husband imploring Dounia in the garden, and, putting quite a wrong interpretation on the position, threw the',\n",
       " 'blame upon her, believing her to be the cause of it all.',\n",
       " 'An awful scene took place between them on the spot in the garden; Marfa Petrovna went so far as to strike Dounia, refused to hear anything and was',\n",
       " 'shouting at her for a whole hour and then gave orders that Dounia should be packed off at once to me in a plain peasant’s cart, into which they flung',\n",
       " 'all her things, her linen and her clothes, all pell-mell, without folding it up and packing it.',\n",
       " 'And a heavy shower of rain came on, too, and Dounia, insulted and put to shame, had to drive with a peasant in an open cart all the seventeen versts',\n",
       " 'into town.',\n",
       " 'Only think now what answer could I have sent to the letter I received from you two months ago and what could I have written?',\n",
       " 'I was in despair; I dared not write to you the truth because you would have been very unhappy, mortified and indignant, and yet what could you do?',\n",
       " 'You could only perhaps ruin yourself, and, besides, Dounia would not allow it; and fill up my letter with trifles when my heart was so full of sorrow,',\n",
       " 'I could not.',\n",
       " 'For a whole month the town was full of gossip about this scandal, and it came to such a pass that Dounia and I dared not even go to church on account',\n",
       " 'of the contemptuous looks, whispers, and even remarks made aloud about us.',\n",
       " 'All our acquaintances avoided us, nobody even bowed to us in the street, and I learnt that some shopmen and clerks were intending to insult us in a',\n",
       " 'shameful way, smearing the gates of our house with pitch, so that the landlord began to tell us we must leave.',\n",
       " 'All this was set going by Marfa Petrovna who managed to slander Dounia and throw dirt at her in every family.',\n",
       " 'She knows everyone in the neighbourhood, and that month she was continually coming into the town, and as she is rather talkative and fond of gossiping',\n",
       " 'about her family affairs and particularly of complaining to all and each of her husband-which is not at all right-so in a short time she had spread',\n",
       " 'her story not only in the town, but over the whole surrounding district.',\n",
       " 'It made me ill, but Dounia bore it better than I did, and if only you could have seen how she endured it all and tried to comfort me and cheer me up!',\n",
       " 'She is an angel!',\n",
       " 'But by God’s mercy, our sufferings were cut short: Mr.  Svidrigaïlov returned to his senses and repented and, probably feeling sorry for Dounia, he',\n",
       " 'laid before Marfa Petrovna a complete and unmistakable proof of Dounia’s innocence, in the form of a letter Dounia had been forced to write and give',\n",
       " 'to him, before Marfa Petrovna came upon them in the garden.',\n",
       " 'This letter, which remained in Mr.  Svidrigaïlov’s hands after her departure, she had written to refuse personal explanations and secret interviews,',\n",
       " 'for which he was entreating her.',\n",
       " 'In that letter she reproached him with great heat and indignation for the baseness of his behaviour in regard to Marfa Petrovna, reminding him that he',\n",
       " 'was the father and head of a family and telling him how infamous it was of him to torment and make unhappy a defenceless girl, unhappy enough already.',\n",
       " 'Indeed, dear Rodya, the letter was so nobly and touchingly written that I sobbed when I read it and to this day I cannot read it without tears.',\n",
       " 'Moreover, the evidence of the servants, too, cleared Dounia’s reputation; they had seen and known a great deal more than Mr.  Svidrigaïlov had himself',\n",
       " 'supposed-as indeed is always the case with servants.',\n",
       " 'Marfa Petrovna was completely taken aback, and ‘again crushed’ as she said herself to us, but she was completely convinced of Dounia’s innocence.',\n",
       " 'The very next day, being Sunday, she went straight to the Cathedral, knelt down and prayed with tears to Our Lady to give her strength to bear this',\n",
       " 'new trial and to do her duty.',\n",
       " 'Then she came straight from the Cathedral to us, told us the whole story, wept bitterly and, fully penitent, she embraced Dounia and besought her to',\n",
       " 'forgive her.',\n",
       " 'The same morning without any delay, she went round to all the houses in the town and everywhere, shedding tears, she asserted in the most flattering',\n",
       " 'terms Dounia’s innocence and the nobility of her feelings and her behavior.',\n",
       " 'What was more, she showed and read to everyone the letter in Dounia’s own handwriting to Mr.  Svidrigaïlov and even allowed them to take copies of it-',\n",
       " 'which I must say I think was superfluous.',\n",
       " 'In this way she was busy for several days in driving about the whole town, because some people had taken offence through precedence having been given',\n",
       " 'to others.',\n",
       " 'And therefore they had to take turns, so that in every house she was expected before she arrived, and everyone knew that on such and such a day Marfa',\n",
       " 'Petrovna would be reading the letter in such and such a place and people assembled for every reading of it, even many who had heard it several times',\n",
       " 'already both in their own houses and in other people’s.',\n",
       " 'In my opinion a great deal, a very great deal of all this was unnecessary; but that’s Marfa Petrovna’s character.',\n",
       " 'Anyway she succeeded in completely re-establishing Dounia’s reputation and the whole ignominy of this affair rested as an indelible disgrace upon her',\n",
       " 'husband, as the only person to blame, so that I really began to feel sorry for him; it was really treating the crazy fellow too harshly.',\n",
       " 'Dounia was at once asked to give lessons in several families, but she refused.',\n",
       " 'All of a sudden everyone began to treat her with marked respect and all this did much to bring about the event by which, one may say, our whole',\n",
       " 'fortunes are now transformed.',\n",
       " 'You must know, dear Rodya, that Dounia has a suitor and that she has already consented to marry him.',\n",
       " 'I hasten to tell you all about the matter, and though it has been arranged without asking your consent, I think you will not be aggrieved with me or',\n",
       " 'with your sister on that account, for you will see that we could not wait and put off our decision till we heard from you.',\n",
       " 'And you could not have judged all the facts without being on the spot.',\n",
       " 'This was how it happened.',\n",
       " 'He is already of the rank of a counsellor, Pyotr Petrovitch Luzhin, and is distantly related to Marfa Petrovna, who has been very active in bringing',\n",
       " 'the match about.',\n",
       " 'It began with his expressing through her his desire to make our acquaintance.',\n",
       " 'He was properly received, drank coffee with us and the very next day he sent us a letter in which he very courteously made an offer and begged for a',\n",
       " 'speedy and decided answer.',\n",
       " 'He is a very busy man and is in a great hurry to get to Petersburg, so that every moment is precious to him.',\n",
       " 'At first, of course, we were greatly surprised, as it had all happened so quickly and unexpectedly.',\n",
       " 'We thought and talked it over the whole day.',\n",
       " 'He is a well-to-do man, to be depended upon, he has two posts in the government and has already made his fortune.',\n",
       " 'It is true that he is forty-five years old, but he is of a fairly prepossessing appearance and might still be thought attractive by women, and he is',\n",
       " 'altogether a very respectable and presentable man, only he seems a little morose and somewhat conceited.',\n",
       " 'But possibly that may only be the impression he makes at first sight.',\n",
       " 'And beware, dear Rodya, when he comes to Petersburg, as he shortly will do, beware of judging him too hastily and severely, as your way is, if there',\n",
       " 'is anything you do not like in him at first sight.',\n",
       " 'I give you this warning, although I feel sure that he will make a favourable impression upon you.',\n",
       " 'Moreover, in order to understand any man one must be deliberate and careful to avoid forming prejudices and mistaken ideas, which are very difficult',\n",
       " 'to correct and get over afterwards.',\n",
       " 'And Pyotr Petrovitch, judging by many indications, is a thoroughly estimable man.',\n",
       " 'At his first visit, indeed, he told us that he was a practical man, but still he shares, as he expressed it, many of the convictions ‘of our most',\n",
       " 'rising generation’ and he is an opponent of all prejudices.',\n",
       " 'He said a good deal more, for he seems a little conceited and likes to be listened to, but this is scarcely a vice.',\n",
       " 'I, of course, understood very little of it, but Dounia explained to me that, though he is not a man of great education, he is clever and seems to be',\n",
       " 'good-natured.',\n",
       " 'You know your sister’s character, Rodya.',\n",
       " 'She is a resolute, sensible, patient and generous girl, but she has a passionate heart, as I know very well.',\n",
       " 'Of course, there is no great love either on his side, or on hers, but Dounia is a clever girl and has the heart of an angel, and will make it her duty',\n",
       " 'to make her husband happy who on his side will make her happiness his care.',\n",
       " 'Of that we have no good reason to doubt, though it must be admitted the matter has been arranged in great haste.',\n",
       " 'Besides he is a man of great prudence and he will see, to be sure, of himself, that his own happiness will be the more secure, the happier Dounia is',\n",
       " 'with him.',\n",
       " 'And as for some defects of character, for some habits and even certain differences of opinion-which indeed are inevitable even in the happiest',\n",
       " 'marriages-Dounia has said that, as regards all that, she relies on herself, that there is nothing to be uneasy about, and that she is ready to put up',\n",
       " 'with a great deal, if only their future relationship can be an honourable and straightforward one.',\n",
       " 'He struck me, for instance, at first, as rather abrupt, but that may well come from his being an outspoken man, and that is no doubt how it is.',\n",
       " 'For instance, at his second visit, after he had received Dounia’s consent, in the course of conversation, he declared that before making Dounia’s',\n",
       " 'acquaintance, he had made up his mind to marry a girl of good reputation, without dowry and, above all, one who had experienced poverty, because, as',\n",
       " 'he explained, a man ought not to be indebted to his wife, but that it is better for a wife to look upon her husband as her benefactor.',\n",
       " 'I must add that he expressed it more nicely and politely than I have done, for I have forgotten his actual phrases and only remember the meaning.',\n",
       " 'And, besides, it was obviously not said of design, but slipped out in the heat of conversation, so that he tried afterwards to correct himself and',\n",
       " 'smooth it over, but all the same it did strike me as somewhat rude, and I said so afterwards to Dounia.',\n",
       " 'But Dounia was vexed, and answered that ‘words are not deeds,’ and that, of course, is perfectly true.',\n",
       " 'Dounia did not sleep all night before she made up her mind, and, thinking that I was asleep, she got out of bed and was walking up and down the room',\n",
       " 'all night; at last she knelt down before the ikon and prayed long and fervently and in the morning she told me that she had decided.',\n",
       " '“I have mentioned already that Pyotr Petrovitch is just setting off for Petersburg, where he has a great deal of business, and he wants to open a',\n",
       " 'legal bureau.',\n",
       " 'He has been occupied for many years in conducting civil and commercial litigation, and only the other day he won an important case.',\n",
       " 'He has to be in Petersburg because he has an important case before the Senate.',\n",
       " 'So, Rodya dear, he may be of the greatest use to you, in every way indeed, and Dounia and I have agreed that from this very day you could definitely',\n",
       " 'enter upon your career and might consider that your future is marked out and assured for you.',\n",
       " 'Oh, if only this comes to pass!',\n",
       " 'This would be such a benefit that we could only look upon it as a providential blessing.',\n",
       " 'Dounia is dreaming of nothing else.',\n",
       " 'We have even ventured already to drop a few words on the subject to Pyotr Petrovitch.',\n",
       " 'He was cautious in his answer, and said that, of course, as he could not get on without a secretary, it would be better to be paying a salary to a',\n",
       " 'relation than to a stranger, if only the former were fitted for the duties (as though there could be doubt of your being fitted!)',\n",
       " 'but then he expressed doubts whether your studies at the university would leave you time for work at his office.',\n",
       " 'The matter dropped for the time, but Dounia is thinking of nothing else now.',\n",
       " 'She has been in a sort of fever for the last few days, and has already made a regular plan for your becoming in the end an associate and even a',\n",
       " 'partner in Pyotr Petrovitch’s business, which might well be, seeing that you are a student of law.',\n",
       " 'I am in complete agreement with her, Rodya, and share all her plans and hopes, and think there is every probability of realising them.',\n",
       " 'And in spite of Pyotr Petrovitch’s evasiveness, very natural at present (since he does not know you), Dounia is firmly persuaded that she will gain',\n",
       " 'everything by her good influence over her future husband; this she is reckoning upon.',\n",
       " 'Of course we are careful not to talk of any of these more remote plans to Pyotr Petrovitch, especially of your becoming his partner.',\n",
       " 'He is a practical man and might take this very coldly, it might all seem to him simply a day-dream.',\n",
       " 'Nor has either Dounia or I breathed a word to him of the great hopes we have of his helping us to pay for your university studies; we have not spoken',\n",
       " 'of it in the first place, because it will come to pass of itself, later on, and he will no doubt without wasting words offer to do it of himself, (as',\n",
       " 'though he could refuse Dounia that) the more readily since you may by your own efforts become his right hand in the office, and receive this',\n",
       " 'assistance not as a charity, but as a salary earned by your own work.',\n",
       " 'Dounia wants to arrange it all like this and I quite agree with her.',\n",
       " 'And we have not spoken of our plans for another reason, that is, because I particularly wanted you to feel on an equal footing when you first meet',\n",
       " 'him.',\n",
       " 'When Dounia spoke to him with enthusiasm about you, he answered that one could never judge of a man without seeing him close, for oneself, and that he',\n",
       " 'looked forward to forming his own opinion when he makes your acquaintance.',\n",
       " 'Do you know, my precious Rodya, I think that perhaps for some reasons (nothing to do with Pyotr Petrovitch though, simply for my own personal, perhaps',\n",
       " 'old-womanish, fancies) I should do better to go on living by myself, apart, than with them, after the wedding.',\n",
       " 'I am convinced that he will be generous and delicate enough to invite me and to urge me to remain with my daughter for the future, and if he has said',\n",
       " 'nothing about it hitherto, it is simply because it has been taken for granted; but I shall refuse.',\n",
       " 'I have noticed more than once in my life that husbands don’t quite get on with their mothers-in-law, and I don’t want to be the least bit in anyone’s',\n",
       " 'way, and for my own sake, too, would rather be quite independent, so long as I have a crust of bread of my own, and such children as you and Dounia.',\n",
       " 'If possible, I would settle somewhere near you, for the most joyful piece of news, dear Rodya, I have kept for the end of my letter: know then, my',\n",
       " 'dear boy, that we may, perhaps, be all together in a very short time and may embrace one another again after a separation of almost three years!',\n",
       " 'It is settled for certain that Dounia and I are to set off for Petersburg, exactly when I don’t know, but very, very soon, possibly in a week.',\n",
       " 'It all depends on Pyotr Petrovitch who will let us know when he has had time to look round him in Petersburg.',\n",
       " 'To suit his own arrangements he is anxious to have the ceremony as soon as possible, even before the fast of Our Lady, if it could be managed, or if',\n",
       " 'that is too soon to be ready, immediately after.',\n",
       " 'Oh, with what happiness I shall press you to my heart!',\n",
       " 'Dounia is all excitement at the joyful thought of seeing you, she said one day in joke that she would be ready to marry Pyotr Petrovitch for that',\n",
       " 'alone.',\n",
       " 'She is an angel!',\n",
       " 'She is not writing anything to you now, and has only told me to write that she has so much, so much to tell you that she is not going to take up her',\n",
       " 'pen now, for a few lines would tell you nothing, and it would only mean upsetting herself; she bids me send you her love and innumerable kisses.',\n",
       " 'But although we shall be meeting so soon, perhaps I shall send you as much money as I can in a day or two.',\n",
       " 'Now that everyone has heard that Dounia is to marry Pyotr Petrovitch, my credit has suddenly improved and I know that Afanasy Ivanovitch will trust me',\n",
       " 'now even to seventy-five roubles on the security of my pension, so that perhaps I shall be able to send you twenty-five or even thirty roubles.',\n",
       " 'I would send you more, but I am uneasy about our travelling expenses; for though Pyotr Petrovitch has been so kind as to undertake part of the',\n",
       " 'expenses of the journey, that is to say, he has taken upon himself the conveyance of our bags and big trunk (which will be conveyed through some',\n",
       " 'acquaintances of his), we must reckon upon some expense on our arrival in Petersburg, where we can’t be left without a halfpenny, at least for the',\n",
       " 'first few days.',\n",
       " 'But we have calculated it all, Dounia and I, to the last penny, and we see that the journey will not cost very much.',\n",
       " 'It is only ninety versts from us to the railway and we have come to an agreement with a driver we know, so as to be in readiness; and from there',\n",
       " 'Dounia and I can travel quite comfortably third class.',\n",
       " 'So that I may very likely be able to send to you not twenty-five, but thirty roubles.',\n",
       " 'But enough; I have covered two sheets already and there is no space left for more; our whole history, but so many events have happened!',\n",
       " 'And now, my precious Rodya, I embrace you and send you a mother’s blessing till we meet.',\n",
       " 'Love Dounia your sister, Rodya; love her as she loves you and understand that she loves you beyond everything, more than herself.',\n",
       " 'She is an angel and you, Rodya, you are everything to us-our one hope, our one consolation.',\n",
       " 'If only you are happy, we shall be happy.',\n",
       " 'Do you still say your prayers, Rodya, and believe in the mercy of our Creator and our Redeemer?',\n",
       " 'I am afraid in my heart that you may have been visited by the new spirit of infidelity that is abroad to-day; If it is so, I pray for you.',\n",
       " 'Remember, dear boy, how in your childhood, when your father was living, you used to lisp your prayers at my knee, and how happy we all were in those',\n",
       " 'days.',\n",
       " 'Good-bye, till we meet then-I embrace you warmly, warmly, with many kisses.',\n",
       " '“Yours till death,',\n",
       " '“PULCHERIA RASKOLNIKOV.”',\n",
       " 'Almost from the first, while he read the letter, Raskolnikov’s face was wet with tears; but when he finished it, his face was pale and distorted and a',\n",
       " 'bitter, wrathful and malignant smile was on his lips.',\n",
       " 'He laid his head down on his threadbare dirty pillow and pondered, pondered a long time.',\n",
       " 'His heart was beating violently, and his brain was in a turmoil.',\n",
       " 'At last he felt cramped and stifled in the little yellow room that was like a cupboard or a box.',\n",
       " 'His eyes and his mind craved for space.',\n",
       " 'He took up his hat and went out, this time without dread of meeting anyone; he had forgotten his dread.',\n",
       " 'He turned in the direction of the Vassilyevsky Ostrov, walking along Vassilyevsky Prospect, as though hastening on some business, but he walked, as',\n",
       " 'his habit was, without noticing his way, muttering and even speaking aloud to himself, to the astonishment of the passers-by.',\n",
       " 'Many of them took him to be drunk.']"
      ]
     },
     "execution_count": 43,
     "metadata": {},
     "output_type": "execute_result"
    }
   ],
   "source": [
    "ebook[6]"
   ]
  },
  {
   "cell_type": "code",
   "execution_count": 44,
   "metadata": {},
   "outputs": [
    {
     "data": {
      "text/plain": [
       "(array([1445., 2509., 2400., 1851., 1598., 1268., 1032.,  810.,  705.,\n",
       "        2580.]),\n",
       " array([  1. ,  15.9,  30.8,  45.7,  60.6,  75.5,  90.4, 105.3, 120.2,\n",
       "        135.1, 150. ]),\n",
       " <BarContainer object of 10 artists>)"
      ]
     },
     "execution_count": 44,
     "metadata": {},
     "output_type": "execute_result"
    },
    {
     "data": {
      "image/png": "[encoded data removed]",
      "text/plain": [
       "<Figure size 432x288 with 1 Axes>"
      ]
     },
     "metadata": {
      "needs_background": "light"
     },
     "output_type": "display_data"
    }
   ],
   "source": [
    "plt.hist([len(sentence) for chapter in ebook for sentence in chapter])"
   ]
  },
  {
   "cell_type": "code",
   "execution_count": null,
   "metadata": {},
   "outputs": [],
   "source": [
    "text = ebook[6]\n",
    "text = [sentence[:max_char_len] for sentence in text]\n",
    "tokens, lengths = utils.prepare_input_sequence(text)"
   ]
  },
  {
   "cell_type": "code",
   "execution_count": null,
   "metadata": {},
   "outputs": [],
   "source": [
    "lengths"
   ]
  },
  {
   "cell_type": "code",
   "execution_count": null,
   "metadata": {},
   "outputs": [],
   "source": [
    "len(text)"
   ]
  },
  {
   "cell_type": "code",
   "execution_count": null,
   "metadata": {},
   "outputs": [],
   "source": [
    "tokens.shape"
   ]
  },
  {
   "cell_type": "code",
   "execution_count": null,
   "metadata": {},
   "outputs": [],
   "source": [
    "data = [(tokens[i],lengths[i]) for i in range(len(tokens))]"
   ]
  },
  {
   "cell_type": "code",
   "execution_count": null,
   "metadata": {},
   "outputs": [],
   "source": [
    "dataloader = DataLoader(data, batch_size=6)"
   ]
  },
  {
   "cell_type": "code",
   "execution_count": null,
   "metadata": {},
   "outputs": [],
   "source": [
    "len(dataloader)"
   ]
  },
  {
   "cell_type": "code",
   "execution_count": null,
   "metadata": {},
   "outputs": [],
   "source": [
    "audio_list = []\n",
    "for X, length in tqdm(dataloader):\n",
    "    with torch.no_grad():\n",
    "        Y, _, _ = tacotron2.infer(X, length)\n",
    "        audio = waveglow.infer(Y)\n",
    "        audio_list.append(audio)\n",
    "#     audio_numpy = audio[0].data.cpu().numpy()"
   ]
  },
  {
   "cell_type": "code",
   "execution_count": null,
   "metadata": {},
   "outputs": [],
   "source": [
    "!nvidia-smi"
   ]
  },
  {
   "cell_type": "code",
   "execution_count": null,
   "metadata": {},
   "outputs": [],
   "source": [
    "50 * 2.5"
   ]
  },
  {
   "cell_type": "code",
   "execution_count": null,
   "metadata": {},
   "outputs": [],
   "source": []
  }
 ],
 "metadata": {
  "kernelspec": {
   "display_name": "Python 3 (ipykernel)",
   "language": "python",
   "name": "python3"
  },
  "language_info": {
   "codemirror_mode": {
    "name": "ipython",
    "version": 3
   },
   "file_extension": ".py",
   "mimetype": "text/x-python",
   "name": "python",
   "nbconvert_exporter": "python",
   "pygments_lexer": "ipython3",
   "version": "3.9.12"
  }
 },
 "nbformat": 4,
 "nbformat_minor": 4
}
